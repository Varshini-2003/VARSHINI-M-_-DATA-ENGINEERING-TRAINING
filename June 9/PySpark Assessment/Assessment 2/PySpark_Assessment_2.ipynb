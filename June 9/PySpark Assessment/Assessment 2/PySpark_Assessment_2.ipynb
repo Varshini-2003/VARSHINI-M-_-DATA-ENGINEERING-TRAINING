{
  "nbformat": 4,
  "nbformat_minor": 0,
  "metadata": {
    "colab": {
      "provenance": []
    },
    "kernelspec": {
      "name": "python3",
      "display_name": "Python 3"
    },
    "language_info": {
      "name": "python"
    }
  },
  "cells": [
    {
      "cell_type": "code",
      "execution_count": 1,
      "metadata": {
        "colab": {
          "base_uri": "https://localhost:8080/",
          "height": 142
        },
        "id": "ALZ8Un7YNGd9",
        "outputId": "f3866aa2-de45-49d4-bcb5-4e37b7495775"
      },
      "outputs": [
        {
          "output_type": "display_data",
          "data": {
            "text/plain": [
              "<IPython.core.display.HTML object>"
            ],
            "text/html": [
              "\n",
              "     <input type=\"file\" id=\"files-3ba208e2-c29f-47d0-9cff-2cce0dd411c4\" name=\"files[]\" multiple disabled\n",
              "        style=\"border:none\" />\n",
              "     <output id=\"result-3ba208e2-c29f-47d0-9cff-2cce0dd411c4\">\n",
              "      Upload widget is only available when the cell has been executed in the\n",
              "      current browser session. Please rerun this cell to enable.\n",
              "      </output>\n",
              "      <script>// Copyright 2017 Google LLC\n",
              "//\n",
              "// Licensed under the Apache License, Version 2.0 (the \"License\");\n",
              "// you may not use this file except in compliance with the License.\n",
              "// You may obtain a copy of the License at\n",
              "//\n",
              "//      http://www.apache.org/licenses/LICENSE-2.0\n",
              "//\n",
              "// Unless required by applicable law or agreed to in writing, software\n",
              "// distributed under the License is distributed on an \"AS IS\" BASIS,\n",
              "// WITHOUT WARRANTIES OR CONDITIONS OF ANY KIND, either express or implied.\n",
              "// See the License for the specific language governing permissions and\n",
              "// limitations under the License.\n",
              "\n",
              "/**\n",
              " * @fileoverview Helpers for google.colab Python module.\n",
              " */\n",
              "(function(scope) {\n",
              "function span(text, styleAttributes = {}) {\n",
              "  const element = document.createElement('span');\n",
              "  element.textContent = text;\n",
              "  for (const key of Object.keys(styleAttributes)) {\n",
              "    element.style[key] = styleAttributes[key];\n",
              "  }\n",
              "  return element;\n",
              "}\n",
              "\n",
              "// Max number of bytes which will be uploaded at a time.\n",
              "const MAX_PAYLOAD_SIZE = 100 * 1024;\n",
              "\n",
              "function _uploadFiles(inputId, outputId) {\n",
              "  const steps = uploadFilesStep(inputId, outputId);\n",
              "  const outputElement = document.getElementById(outputId);\n",
              "  // Cache steps on the outputElement to make it available for the next call\n",
              "  // to uploadFilesContinue from Python.\n",
              "  outputElement.steps = steps;\n",
              "\n",
              "  return _uploadFilesContinue(outputId);\n",
              "}\n",
              "\n",
              "// This is roughly an async generator (not supported in the browser yet),\n",
              "// where there are multiple asynchronous steps and the Python side is going\n",
              "// to poll for completion of each step.\n",
              "// This uses a Promise to block the python side on completion of each step,\n",
              "// then passes the result of the previous step as the input to the next step.\n",
              "function _uploadFilesContinue(outputId) {\n",
              "  const outputElement = document.getElementById(outputId);\n",
              "  const steps = outputElement.steps;\n",
              "\n",
              "  const next = steps.next(outputElement.lastPromiseValue);\n",
              "  return Promise.resolve(next.value.promise).then((value) => {\n",
              "    // Cache the last promise value to make it available to the next\n",
              "    // step of the generator.\n",
              "    outputElement.lastPromiseValue = value;\n",
              "    return next.value.response;\n",
              "  });\n",
              "}\n",
              "\n",
              "/**\n",
              " * Generator function which is called between each async step of the upload\n",
              " * process.\n",
              " * @param {string} inputId Element ID of the input file picker element.\n",
              " * @param {string} outputId Element ID of the output display.\n",
              " * @return {!Iterable<!Object>} Iterable of next steps.\n",
              " */\n",
              "function* uploadFilesStep(inputId, outputId) {\n",
              "  const inputElement = document.getElementById(inputId);\n",
              "  inputElement.disabled = false;\n",
              "\n",
              "  const outputElement = document.getElementById(outputId);\n",
              "  outputElement.innerHTML = '';\n",
              "\n",
              "  const pickedPromise = new Promise((resolve) => {\n",
              "    inputElement.addEventListener('change', (e) => {\n",
              "      resolve(e.target.files);\n",
              "    });\n",
              "  });\n",
              "\n",
              "  const cancel = document.createElement('button');\n",
              "  inputElement.parentElement.appendChild(cancel);\n",
              "  cancel.textContent = 'Cancel upload';\n",
              "  const cancelPromise = new Promise((resolve) => {\n",
              "    cancel.onclick = () => {\n",
              "      resolve(null);\n",
              "    };\n",
              "  });\n",
              "\n",
              "  // Wait for the user to pick the files.\n",
              "  const files = yield {\n",
              "    promise: Promise.race([pickedPromise, cancelPromise]),\n",
              "    response: {\n",
              "      action: 'starting',\n",
              "    }\n",
              "  };\n",
              "\n",
              "  cancel.remove();\n",
              "\n",
              "  // Disable the input element since further picks are not allowed.\n",
              "  inputElement.disabled = true;\n",
              "\n",
              "  if (!files) {\n",
              "    return {\n",
              "      response: {\n",
              "        action: 'complete',\n",
              "      }\n",
              "    };\n",
              "  }\n",
              "\n",
              "  for (const file of files) {\n",
              "    const li = document.createElement('li');\n",
              "    li.append(span(file.name, {fontWeight: 'bold'}));\n",
              "    li.append(span(\n",
              "        `(${file.type || 'n/a'}) - ${file.size} bytes, ` +\n",
              "        `last modified: ${\n",
              "            file.lastModifiedDate ? file.lastModifiedDate.toLocaleDateString() :\n",
              "                                    'n/a'} - `));\n",
              "    const percent = span('0% done');\n",
              "    li.appendChild(percent);\n",
              "\n",
              "    outputElement.appendChild(li);\n",
              "\n",
              "    const fileDataPromise = new Promise((resolve) => {\n",
              "      const reader = new FileReader();\n",
              "      reader.onload = (e) => {\n",
              "        resolve(e.target.result);\n",
              "      };\n",
              "      reader.readAsArrayBuffer(file);\n",
              "    });\n",
              "    // Wait for the data to be ready.\n",
              "    let fileData = yield {\n",
              "      promise: fileDataPromise,\n",
              "      response: {\n",
              "        action: 'continue',\n",
              "      }\n",
              "    };\n",
              "\n",
              "    // Use a chunked sending to avoid message size limits. See b/62115660.\n",
              "    let position = 0;\n",
              "    do {\n",
              "      const length = Math.min(fileData.byteLength - position, MAX_PAYLOAD_SIZE);\n",
              "      const chunk = new Uint8Array(fileData, position, length);\n",
              "      position += length;\n",
              "\n",
              "      const base64 = btoa(String.fromCharCode.apply(null, chunk));\n",
              "      yield {\n",
              "        response: {\n",
              "          action: 'append',\n",
              "          file: file.name,\n",
              "          data: base64,\n",
              "        },\n",
              "      };\n",
              "\n",
              "      let percentDone = fileData.byteLength === 0 ?\n",
              "          100 :\n",
              "          Math.round((position / fileData.byteLength) * 100);\n",
              "      percent.textContent = `${percentDone}% done`;\n",
              "\n",
              "    } while (position < fileData.byteLength);\n",
              "  }\n",
              "\n",
              "  // All done.\n",
              "  yield {\n",
              "    response: {\n",
              "      action: 'complete',\n",
              "    }\n",
              "  };\n",
              "}\n",
              "\n",
              "scope.google = scope.google || {};\n",
              "scope.google.colab = scope.google.colab || {};\n",
              "scope.google.colab._files = {\n",
              "  _uploadFiles,\n",
              "  _uploadFilesContinue,\n",
              "};\n",
              "})(self);\n",
              "</script> "
            ]
          },
          "metadata": {}
        },
        {
          "output_type": "stream",
          "name": "stdout",
          "text": [
            "Saving bonuses.json to bonuses.json\n",
            "Saving attendance.csv to attendance.csv\n",
            "Saving employees.csv to employees.csv\n"
          ]
        }
      ],
      "source": [
        "from google.colab import files\n",
        "\n",
        "# This opens a file upload dialog in Colab\n",
        "uploaded = files.upload()\n"
      ]
    },
    {
      "cell_type": "markdown",
      "source": [
        "#  TASK 1: Ingestion & Exploration"
      ],
      "metadata": {
        "id": "gDtLZreSO7Fi"
      }
    },
    {
      "cell_type": "code",
      "source": [
        "from pyspark.sql import SparkSession\n",
        "from pyspark.sql.functions import *\n",
        "\n",
        "spark = SparkSession.builder.appName(\"PySparkAssessment\").getOrCreate()\n",
        "\n",
        "# Read files\n",
        "employees_df = spark.read.csv(\"employees.csv\", header=True, inferSchema=True)\n",
        "attendance_df = spark.read.csv(\"attendance.csv\", header=True, inferSchema=True)\n",
        "bonuses_df = spark.read.json(\"bonuses.json\")\n",
        "\n",
        "# Show schemas and records\n",
        "employees_df.printSchema()\n",
        "employees_df.show()\n",
        "\n",
        "attendance_df.printSchema()\n",
        "attendance_df.show()\n",
        "\n",
        "bonuses_df.printSchema()\n",
        "bonuses_df.show()\n",
        "\n",
        "# Count distinct departments\n",
        "print(\"Distinct Departments:\", employees_df.select(\"Department\").distinct().count())\n"
      ],
      "metadata": {
        "colab": {
          "base_uri": "https://localhost:8080/"
        },
        "id": "2sZH0kx7O1CI",
        "outputId": "77052bbc-a251-44ca-d53d-98cbadae45cc"
      },
      "execution_count": 2,
      "outputs": [
        {
          "output_type": "stream",
          "name": "stdout",
          "text": [
            "root\n",
            " |-- EmpID: integer (nullable = true)\n",
            " |-- Name: string (nullable = true)\n",
            " |-- Department: string (nullable = true)\n",
            " |-- JoinDate: date (nullable = true)\n",
            " |-- Salary: integer (nullable = true)\n",
            " |-- ManagerID: integer (nullable = true)\n",
            "\n",
            "+-----+------+-----------+----------+------+---------+\n",
            "|EmpID|  Name| Department|  JoinDate|Salary|ManagerID|\n",
            "+-----+------+-----------+----------+------+---------+\n",
            "|    1| Anita|         HR|2021-05-01| 55000|     NULL|\n",
            "|    2|   Raj|Engineering|2020-03-15| 80000|        1|\n",
            "|    3|Simran|Engineering|2022-07-10| 75000|        1|\n",
            "|    4| Aamir|  Marketing|2019-11-20| 60000|        1|\n",
            "|    5| Nisha|         HR|2023-01-05| 50000|        1|\n",
            "+-----+------+-----------+----------+------+---------+\n",
            "\n",
            "root\n",
            " |-- EmpID: integer (nullable = true)\n",
            " |-- Date: date (nullable = true)\n",
            " |-- Status: string (nullable = true)\n",
            "\n",
            "+-----+----------+-------+\n",
            "|EmpID|      Date| Status|\n",
            "+-----+----------+-------+\n",
            "|    1|2024-04-01|Present|\n",
            "|    1|2024-04-02|Present|\n",
            "|    2|2024-04-01| Absent|\n",
            "|    2|2024-04-02|Present|\n",
            "|    3|2024-04-01|Present|\n",
            "|    3|2024-04-02|Present|\n",
            "|    4|2024-04-01| Absent|\n",
            "|    4|2024-04-02| Absent|\n",
            "|    5|2024-04-01|Present|\n",
            "|    5|2024-04-02|Present|\n",
            "+-----+----------+-------+\n",
            "\n",
            "root\n",
            " |-- Bonus: long (nullable = true)\n",
            " |-- EmpID: long (nullable = true)\n",
            " |-- Year: long (nullable = true)\n",
            " |-- _corrupt_record: string (nullable = true)\n",
            "\n",
            "+-----+-----+----+---------------+\n",
            "|Bonus|EmpID|Year|_corrupt_record|\n",
            "+-----+-----+----+---------------+\n",
            "| NULL| NULL|NULL|              [|\n",
            "| 5000|    1|2023|           NULL|\n",
            "| 7000|    2|2023|           NULL|\n",
            "| 6500|    3|2023|           NULL|\n",
            "| 6000|    4|2023|           NULL|\n",
            "| 4000|    5|2023|           NULL|\n",
            "| NULL| NULL|NULL|              ]|\n",
            "+-----+-----+----+---------------+\n",
            "\n",
            "Distinct Departments: 3\n"
          ]
        }
      ]
    },
    {
      "cell_type": "markdown",
      "source": [
        "# TASK 2: DataFrame Operations"
      ],
      "metadata": {
        "id": "egLnUJvcPKdT"
      }
    },
    {
      "cell_type": "code",
      "source": [
        "from pyspark.sql.functions import datediff, current_date, round, col\n",
        "\n",
        "# Tenure in years\n",
        "employees_df = employees_df.withColumn(\"TenureYears\", round(datediff(current_date(), col(\"JoinDate\")) / 365, 1))\n",
        "\n",
        "# Join bonuses to compute TotalCompensation\n",
        "emp_bonus_df = employees_df.join(bonuses_df, \"EmpID\")\n",
        "emp_bonus_df = emp_bonus_df.withColumn(\"TotalCompensation\", col(\"Salary\") + col(\"Bonus\"))\n",
        "\n",
        "# Filter\n",
        "emp_bonus_df.filter(col(\"TenureYears\") > 2).show()\n",
        "\n",
        "# Employees with Manager\n",
        "employees_df.filter(col(\"ManagerID\").isNotNull()).show()\n"
      ],
      "metadata": {
        "colab": {
          "base_uri": "https://localhost:8080/"
        },
        "id": "wuU0cwTqPJc4",
        "outputId": "377645e4-e6ba-4cc0-8da9-7712145e8c0a"
      },
      "execution_count": 3,
      "outputs": [
        {
          "output_type": "stream",
          "name": "stdout",
          "text": [
            "+-----+------+-----------+----------+------+---------+-----------+-----+----+---------------+-----------------+\n",
            "|EmpID|  Name| Department|  JoinDate|Salary|ManagerID|TenureYears|Bonus|Year|_corrupt_record|TotalCompensation|\n",
            "+-----+------+-----------+----------+------+---------+-----------+-----+----+---------------+-----------------+\n",
            "|    1| Anita|         HR|2021-05-01| 55000|     NULL|        4.1| 5000|2023|           NULL|            60000|\n",
            "|    2|   Raj|Engineering|2020-03-15| 80000|        1|        5.2| 7000|2023|           NULL|            87000|\n",
            "|    3|Simran|Engineering|2022-07-10| 75000|        1|        2.9| 6500|2023|           NULL|            81500|\n",
            "|    4| Aamir|  Marketing|2019-11-20| 60000|        1|        5.6| 6000|2023|           NULL|            66000|\n",
            "|    5| Nisha|         HR|2023-01-05| 50000|        1|        2.4| 4000|2023|           NULL|            54000|\n",
            "+-----+------+-----------+----------+------+---------+-----------+-----+----+---------------+-----------------+\n",
            "\n",
            "+-----+------+-----------+----------+------+---------+-----------+\n",
            "|EmpID|  Name| Department|  JoinDate|Salary|ManagerID|TenureYears|\n",
            "+-----+------+-----------+----------+------+---------+-----------+\n",
            "|    2|   Raj|Engineering|2020-03-15| 80000|        1|        5.2|\n",
            "|    3|Simran|Engineering|2022-07-10| 75000|        1|        2.9|\n",
            "|    4| Aamir|  Marketing|2019-11-20| 60000|        1|        5.6|\n",
            "|    5| Nisha|         HR|2023-01-05| 50000|        1|        2.4|\n",
            "+-----+------+-----------+----------+------+---------+-----------+\n",
            "\n"
          ]
        }
      ]
    },
    {
      "cell_type": "markdown",
      "source": [
        "# TASK 3: Aggregation"
      ],
      "metadata": {
        "id": "r9dZYlOVPXuy"
      }
    },
    {
      "cell_type": "code",
      "source": [
        "# Average salary by department\n",
        "employees_df.groupBy(\"Department\").avg(\"Salary\").show()\n",
        "\n",
        "# Employees under each manager\n",
        "employees_df.groupBy(\"ManagerID\").count().show()\n",
        "\n",
        "# Count absences per employee\n",
        "attendance_df.filter(col(\"Status\") == \"Absent\")\\\n",
        "    .groupBy(\"EmpID\").count().withColumnRenamed(\"count\", \"AbsenceCount\").show()\n"
      ],
      "metadata": {
        "colab": {
          "base_uri": "https://localhost:8080/"
        },
        "id": "q9UWVrYXPaVs",
        "outputId": "f4fff140-5c68-4968-97d9-594680da8108"
      },
      "execution_count": 4,
      "outputs": [
        {
          "output_type": "stream",
          "name": "stdout",
          "text": [
            "+-----------+-----------+\n",
            "| Department|avg(Salary)|\n",
            "+-----------+-----------+\n",
            "|Engineering|    77500.0|\n",
            "|         HR|    52500.0|\n",
            "|  Marketing|    60000.0|\n",
            "+-----------+-----------+\n",
            "\n",
            "+---------+-----+\n",
            "|ManagerID|count|\n",
            "+---------+-----+\n",
            "|     NULL|    1|\n",
            "|        1|    4|\n",
            "+---------+-----+\n",
            "\n",
            "+-----+------------+\n",
            "|EmpID|AbsenceCount|\n",
            "+-----+------------+\n",
            "|    4|           2|\n",
            "|    2|           1|\n",
            "+-----+------------+\n",
            "\n"
          ]
        }
      ]
    },
    {
      "cell_type": "markdown",
      "source": [
        "# TASK 4: Joins\n"
      ],
      "metadata": {
        "id": "JM0vodDUPjVq"
      }
    },
    {
      "cell_type": "code",
      "source": [
        "# Attendance percentage\n",
        "attendance_summary = attendance_df.groupBy(\"EmpID\").agg(\n",
        "    count(\"*\").alias(\"TotalDays\"),\n",
        "    count(when(col(\"Status\") == \"Present\", True)).alias(\"PresentDays\")\n",
        ").withColumn(\"AttendancePercentage\", round(col(\"PresentDays\") / col(\"TotalDays\") * 100, 2))\n",
        "\n",
        "attendance_summary.show()\n",
        "\n",
        "# Top 3 by TotalCompensation\n",
        "emp_bonus_df.orderBy(col(\"TotalCompensation\").desc()).select(\"EmpID\", \"Name\", \"TotalCompensation\").show(3)\n",
        "\n",
        "# Multi-level join\n",
        "full_df = employees_df.join(bonuses_df, \"EmpID\").join(attendance_summary, \"EmpID\")\n",
        "full_df.select(\"EmpID\", \"Name\", \"Department\", \"Bonus\", \"AttendancePercentage\").show()\n"
      ],
      "metadata": {
        "colab": {
          "base_uri": "https://localhost:8080/"
        },
        "id": "AZqjfFCrPl-x",
        "outputId": "580f862c-1b6c-4225-9c9f-78be6852c437"
      },
      "execution_count": 5,
      "outputs": [
        {
          "output_type": "stream",
          "name": "stdout",
          "text": [
            "+-----+---------+-----------+--------------------+\n",
            "|EmpID|TotalDays|PresentDays|AttendancePercentage|\n",
            "+-----+---------+-----------+--------------------+\n",
            "|    1|        2|          2|               100.0|\n",
            "|    3|        2|          2|               100.0|\n",
            "|    5|        2|          2|               100.0|\n",
            "|    4|        2|          0|                 0.0|\n",
            "|    2|        2|          1|                50.0|\n",
            "+-----+---------+-----------+--------------------+\n",
            "\n",
            "+-----+------+-----------------+\n",
            "|EmpID|  Name|TotalCompensation|\n",
            "+-----+------+-----------------+\n",
            "|    2|   Raj|            87000|\n",
            "|    3|Simran|            81500|\n",
            "|    4| Aamir|            66000|\n",
            "+-----+------+-----------------+\n",
            "only showing top 3 rows\n",
            "\n",
            "+-----+------+-----------+-----+--------------------+\n",
            "|EmpID|  Name| Department|Bonus|AttendancePercentage|\n",
            "+-----+------+-----------+-----+--------------------+\n",
            "|    1| Anita|         HR| 5000|               100.0|\n",
            "|    2|   Raj|Engineering| 7000|                50.0|\n",
            "|    3|Simran|Engineering| 6500|               100.0|\n",
            "|    4| Aamir|  Marketing| 6000|                 0.0|\n",
            "|    5| Nisha|         HR| 4000|               100.0|\n",
            "+-----+------+-----------+-----+--------------------+\n",
            "\n"
          ]
        }
      ]
    },
    {
      "cell_type": "markdown",
      "source": [
        "# TASK 5: String & Date Functions"
      ],
      "metadata": {
        "id": "UYgF-UQ_PqNQ"
      }
    },
    {
      "cell_type": "code",
      "source": [
        "from pyspark.sql.functions import year, month, regexp_replace, lpad, concat, lit\n",
        "\n",
        "# Year and Month from JoinDate\n",
        "employees_df = employees_df.withColumn(\"JoinYear\", year(\"JoinDate\")).withColumn(\"JoinMonth\", month(\"JoinDate\"))\n",
        "\n",
        "# Mask names\n",
        "employees_df = employees_df.withColumn(\"MaskedName\", regexp_replace(\"Name\", r\"(?<=.).\", \"*\"))\n",
        "\n",
        "# EmpCode as EMP001\n",
        "employees_df = employees_df.withColumn(\"EmpCode\", concat(lit(\"EMP\"), lpad(col(\"EmpID\").cast(\"string\"), 3, \"0\")))\n",
        "\n",
        "employees_df.select(\"EmpID\", \"Name\", \"MaskedName\", \"EmpCode\", \"JoinYear\", \"JoinMonth\").show()\n"
      ],
      "metadata": {
        "colab": {
          "base_uri": "https://localhost:8080/"
        },
        "id": "W-gnN9Y_Pume",
        "outputId": "28325049-aa46-41e2-d767-d698557afd6a"
      },
      "execution_count": 6,
      "outputs": [
        {
          "output_type": "stream",
          "name": "stdout",
          "text": [
            "+-----+------+----------+-------+--------+---------+\n",
            "|EmpID|  Name|MaskedName|EmpCode|JoinYear|JoinMonth|\n",
            "+-----+------+----------+-------+--------+---------+\n",
            "|    1| Anita|     A****| EMP001|    2021|        5|\n",
            "|    2|   Raj|       R**| EMP002|    2020|        3|\n",
            "|    3|Simran|    S*****| EMP003|    2022|        7|\n",
            "|    4| Aamir|     A****| EMP004|    2019|       11|\n",
            "|    5| Nisha|     N****| EMP005|    2023|        1|\n",
            "+-----+------+----------+-------+--------+---------+\n",
            "\n"
          ]
        }
      ]
    },
    {
      "cell_type": "markdown",
      "source": [
        "# TASK 6: Conditional & Null Handling"
      ],
      "metadata": {
        "id": "1XMxBDZFPzjg"
      }
    },
    {
      "cell_type": "code",
      "source": [
        "from pyspark.sql.functions import when\n",
        "\n",
        "# Performance label\n",
        "emp_bonus_df = emp_bonus_df.withColumn(\n",
        "    \"Performance\",\n",
        "    when(col(\"Bonus\") > 6000, \"High\")\n",
        "    .when((col(\"Bonus\") >= 4000) & (col(\"Bonus\") <= 6000), \"Medium\")\n",
        "    .otherwise(\"Low\")\n",
        ")\n",
        "\n",
        "# Handle missing ManagerID\n",
        "employees_df = employees_df.fillna({\"ManagerID\": \"No Manager\"})\n",
        "\n",
        "emp_bonus_df.select(\"EmpID\", \"Bonus\", \"Performance\").show()\n",
        "employees_df.select(\"EmpID\", \"ManagerID\").show()\n"
      ],
      "metadata": {
        "colab": {
          "base_uri": "https://localhost:8080/"
        },
        "id": "DFPQGIgvPpzV",
        "outputId": "f33fe2f1-9b60-4d93-91f5-18dd2087c365"
      },
      "execution_count": 7,
      "outputs": [
        {
          "output_type": "stream",
          "name": "stdout",
          "text": [
            "+-----+-----+-----------+\n",
            "|EmpID|Bonus|Performance|\n",
            "+-----+-----+-----------+\n",
            "|    1| 5000|     Medium|\n",
            "|    2| 7000|       High|\n",
            "|    3| 6500|       High|\n",
            "|    4| 6000|     Medium|\n",
            "|    5| 4000|     Medium|\n",
            "+-----+-----+-----------+\n",
            "\n",
            "+-----+---------+\n",
            "|EmpID|ManagerID|\n",
            "+-----+---------+\n",
            "|    1|     NULL|\n",
            "|    2|        1|\n",
            "|    3|        1|\n",
            "|    4|        1|\n",
            "|    5|        1|\n",
            "+-----+---------+\n",
            "\n"
          ]
        }
      ]
    },
    {
      "cell_type": "markdown",
      "source": [
        "# TASK 7: Spark SQL"
      ],
      "metadata": {
        "id": "ttZQCZUhP9il"
      }
    },
    {
      "cell_type": "code",
      "source": [
        "# Create and use database\n",
        "spark.sql(\"CREATE DATABASE IF NOT EXISTS hr\")\n",
        "spark.sql(\"USE hr\")\n",
        "\n",
        "# Save DataFrames as tables\n",
        "employees_df.write.mode(\"overwrite\").saveAsTable(\"employees\")\n",
        "attendance_df.write.mode(\"overwrite\").saveAsTable(\"attendance\")\n",
        "bonuses_df.write.mode(\"overwrite\").saveAsTable(\"bonuses\")\n",
        "\n",
        "# Top paid employee in each department\n",
        "spark.sql(\"\"\"\n",
        "    SELECT Department, Name, Salary FROM (\n",
        "        SELECT *, ROW_NUMBER() OVER(PARTITION BY Department ORDER BY Salary DESC) AS rn\n",
        "        FROM employees\n",
        "    ) WHERE rn = 1\n",
        "\"\"\").show()\n",
        "\n",
        "# Attendance rate by department\n",
        "attendance_df.createOrReplaceTempView(\"attendance\")\n",
        "employees_df.createOrReplaceTempView(\"employees\")\n",
        "\n",
        "spark.sql(\"\"\"\n",
        "    SELECT e.Department,\n",
        "           ROUND(SUM(CASE WHEN a.Status='Present' THEN 1 ELSE 0 END)*100.0 / COUNT(*), 2) AS AttendanceRate\n",
        "    FROM employees e\n",
        "    JOIN attendance a ON e.EmpID = a.EmpID\n",
        "    GROUP BY e.Department\n",
        "\"\"\").show()\n",
        "\n",
        "# Joined after 2021 with salary > 70,000\n",
        "spark.sql(\"\"\"\n",
        "    SELECT Name, Salary, JoinDate\n",
        "    FROM employees\n",
        "    WHERE JoinDate > '2021-12-31' AND Salary > 70000\n",
        "\"\"\").show()\n"
      ],
      "metadata": {
        "colab": {
          "base_uri": "https://localhost:8080/"
        },
        "id": "KXji4RPHP-yv",
        "outputId": "8178bfb8-5566-4d42-8f8b-da865c3b6eab"
      },
      "execution_count": 8,
      "outputs": [
        {
          "output_type": "stream",
          "name": "stdout",
          "text": [
            "+-----------+-----+------+\n",
            "| Department| Name|Salary|\n",
            "+-----------+-----+------+\n",
            "|Engineering|  Raj| 80000|\n",
            "|         HR|Anita| 55000|\n",
            "|  Marketing|Aamir| 60000|\n",
            "+-----------+-----+------+\n",
            "\n",
            "+-----------+--------------+\n",
            "| Department|AttendanceRate|\n",
            "+-----------+--------------+\n",
            "|Engineering|         75.00|\n",
            "|         HR|        100.00|\n",
            "|  Marketing|          0.00|\n",
            "+-----------+--------------+\n",
            "\n",
            "+------+------+----------+\n",
            "|  Name|Salary|  JoinDate|\n",
            "+------+------+----------+\n",
            "|Simran| 75000|2022-07-10|\n",
            "+------+------+----------+\n",
            "\n"
          ]
        }
      ]
    },
    {
      "cell_type": "markdown",
      "source": [
        " # TASK 8: Advanced (UDF + View + Parquet)"
      ],
      "metadata": {
        "id": "-YlVFi_ZQHbf"
      }
    },
    {
      "cell_type": "code",
      "source": [
        "from pyspark.sql.functions import udf\n",
        "from pyspark.sql.types import StringType\n",
        "\n",
        "# UDF to classify department\n",
        "def classify_dept(dept):\n",
        "    return \"Tech\" if dept == \"Engineering\" else \"Non-Tech\"\n",
        "\n",
        "dept_udf = udf(classify_dept, StringType())\n",
        "employees_df = employees_df.withColumn(\"DeptCategory\", dept_udf(col(\"Department\")))\n",
        "employees_df.select(\"Department\", \"DeptCategory\").show()\n",
        "\n",
        "# View and save as Parquet\n",
        "emp_attendance_summary = full_df.select(\"EmpID\", \"Name\", \"Department\", \"AttendancePercentage\")\n",
        "emp_attendance_summary.createOrReplaceTempView(\"emp_attendance_summary\")\n",
        "\n",
        "emp_attendance_summary.write.mode(\"overwrite\").partitionBy(\"Department\").parquet(\"emp_attendance_summary_parquet\")\n"
      ],
      "metadata": {
        "colab": {
          "base_uri": "https://localhost:8080/"
        },
        "id": "0KAbp7QXQJt_",
        "outputId": "936f138d-377c-4c1d-cde9-a1ef092e5aef"
      },
      "execution_count": 9,
      "outputs": [
        {
          "output_type": "stream",
          "name": "stdout",
          "text": [
            "+-----------+------------+\n",
            "| Department|DeptCategory|\n",
            "+-----------+------------+\n",
            "|         HR|    Non-Tech|\n",
            "|Engineering|        Tech|\n",
            "|Engineering|        Tech|\n",
            "|  Marketing|    Non-Tech|\n",
            "|         HR|    Non-Tech|\n",
            "+-----------+------------+\n",
            "\n"
          ]
        }
      ]
    }
  ]
}