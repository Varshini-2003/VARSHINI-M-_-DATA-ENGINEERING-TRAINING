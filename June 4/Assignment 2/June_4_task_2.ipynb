{
  "nbformat": 4,
  "nbformat_minor": 0,
  "metadata": {
    "colab": {
      "provenance": []
    },
    "kernelspec": {
      "name": "python3",
      "display_name": "Python 3"
    },
    "language_info": {
      "name": "python"
    }
  },
  "cells": [
    {
      "cell_type": "code",
      "execution_count": 6,
      "metadata": {
        "id": "6ctNOkYHKLej"
      },
      "outputs": [],
      "source": [
        "from pyspark.sql import SparkSession\n",
        "from pyspark.sql.functions import expr\n",
        "\n",
        "# Initialize SparkSession correctly\n",
        "spark = SparkSession.builder \\\n",
        "    .appName(\"PracticeProject\") \\\n",
        "    .enableHiveSupport() \\\n",
        "    .getOrCreate()\n",
        "\n",
        "# Customers Data\n",
        "customers_data = [\n",
        "    (101, 'Ali', 'ali@gmail.com', 'Mumbai', '2022-05-10'),\n",
        "    (102, 'Neha', 'neha@yahoo.com', 'Delhi', '2023-01-15'),\n",
        "    (103, 'Ravi', 'ravi@hotmail.com', 'Bangalore', '2021-11-01'),\n",
        "    (104, 'Sneha', 'sneha@outlook.com', 'Hyderabad', '2020-07-22'),\n",
        "    (105, 'Amit', 'amit@gmail.com', 'Chennai', '2023-03-10'),\n",
        "]\n",
        "\n",
        "# Orders Data\n",
        "orders_data = [\n",
        "    (1, 101, 'Laptop', 'Electronics', 2, 50000.0, '2024-01-10'),\n",
        "    (2, 101, 'Mouse', 'Electronics', 1, 1200.0, '2024-01-15'),\n",
        "    (3, 102, 'Tablet', 'Electronics', 1, 20000.0, '2024-02-01'),\n",
        "    (4, 103, 'Bookshelf', 'Furniture', 1, 3500.0, '2024-02-10'),\n",
        "    (5, 104, 'Mixer', 'Appliances', 1, 5000.0, '2024-02-15'),\n",
        "    (6, 105, 'Notebook', 'Stationery', 5, 500.0, '2024-03-01'),\n",
        "    (7, 102, 'Phone', 'Electronics', 1, 30000.0, '2024-03-02'),\n",
        "]\n",
        "\n",
        "# Create DataFrames\n",
        "customers_df = spark.createDataFrame(customers_data, [\"CustomerID\", \"Name\", \"Email\", \"City\", \"SignupDate\"])\n",
        "orders_df = spark.createDataFrame(orders_data, [\"OrderID\", \"CustomerID\", \"Product\", \"Category\", \"Quantity\", \"Price\", \"OrderDate\"])\n",
        "# Create the database if not exists\n",
        "spark.sql(\"CREATE DATABASE IF NOT EXISTS sales\")\n",
        "\n",
        "# Save the DataFrames as tables in the sales database\n",
        "customers_df.write.mode(\"overwrite\").saveAsTable(\"sales.customers\")\n",
        "orders_df.write.mode(\"overwrite\").saveAsTable(\"sales.orders\")"
      ]
    },
    {
      "cell_type": "markdown",
      "source": [
        "# SECTION A: PySpark DataFrame Tasks\n"
      ],
      "metadata": {
        "id": "z6dVgMZFK6v0"
      }
    },
    {
      "cell_type": "code",
      "source": [
        "# Q1. Add a column TotalAmount = Price * Quantity\n",
        "orders_df = orders_df.withColumn(\"TotalAmount\", col(\"Price\") * col(\"Quantity\"))\n",
        "orders_df.show()\n",
        "\n",
        "# Q2. Filter all orders with TotalAmount > 10000\n",
        "orders_df.filter(col(\"TotalAmount\") > 10000).show()\n",
        "\n",
        "# Q3. Standardize the City field in customers_df (e.g., lowercase)\n",
        "customers_df = customers_df.withColumn(\"City\", expr(\"lower(City)\"))\n",
        "customers_df.show()\n",
        "\n",
        "# Q4. Extract year from OrderDate and add a new column OrderYear\n",
        "orders_df = orders_df.withColumn(\"OrderYear\", year(\"OrderDate\"))\n",
        "orders_df.show()\n",
        "\n",
        "# Q5. Fill null values in any column of your choice with defaults (Category)\n",
        "orders_df = orders_df.fillna({\"Category\": \"Unknown\"})\n",
        "orders_df.show()\n",
        "\n",
        "# Q6. Use when/otherwise to categorize orders\n",
        "orders_df = orders_df.withColumn(\n",
        "    \"OrderCategory\",\n",
        "    when(col(\"TotalAmount\") < 5000, \"Low\")\n",
        "    .when((col(\"TotalAmount\") >= 5000) & (col(\"TotalAmount\") <= 20000), \"Medium\")\n",
        "    .otherwise(\"High\")\n",
        ")\n",
        "orders_df.select(\"OrderID\", \"TotalAmount\", \"OrderCategory\").show()\n"
      ],
      "metadata": {
        "colab": {
          "base_uri": "https://localhost:8080/"
        },
        "id": "zaGfGCXJK833",
        "outputId": "37009783-eaf0-4b6f-80fd-9b8d4a4b7bfd"
      },
      "execution_count": 7,
      "outputs": [
        {
          "output_type": "stream",
          "name": "stdout",
          "text": [
            "+-------+----------+---------+-----------+--------+-------+----------+-----------+\n",
            "|OrderID|CustomerID|  Product|   Category|Quantity|  Price| OrderDate|TotalAmount|\n",
            "+-------+----------+---------+-----------+--------+-------+----------+-----------+\n",
            "|      1|       101|   Laptop|Electronics|       2|50000.0|2024-01-10|   100000.0|\n",
            "|      2|       101|    Mouse|Electronics|       1| 1200.0|2024-01-15|     1200.0|\n",
            "|      3|       102|   Tablet|Electronics|       1|20000.0|2024-02-01|    20000.0|\n",
            "|      4|       103|Bookshelf|  Furniture|       1| 3500.0|2024-02-10|     3500.0|\n",
            "|      5|       104|    Mixer| Appliances|       1| 5000.0|2024-02-15|     5000.0|\n",
            "|      6|       105| Notebook| Stationery|       5|  500.0|2024-03-01|     2500.0|\n",
            "|      7|       102|    Phone|Electronics|       1|30000.0|2024-03-02|    30000.0|\n",
            "+-------+----------+---------+-----------+--------+-------+----------+-----------+\n",
            "\n",
            "+-------+----------+-------+-----------+--------+-------+----------+-----------+\n",
            "|OrderID|CustomerID|Product|   Category|Quantity|  Price| OrderDate|TotalAmount|\n",
            "+-------+----------+-------+-----------+--------+-------+----------+-----------+\n",
            "|      1|       101| Laptop|Electronics|       2|50000.0|2024-01-10|   100000.0|\n",
            "|      3|       102| Tablet|Electronics|       1|20000.0|2024-02-01|    20000.0|\n",
            "|      7|       102|  Phone|Electronics|       1|30000.0|2024-03-02|    30000.0|\n",
            "+-------+----------+-------+-----------+--------+-------+----------+-----------+\n",
            "\n",
            "+----------+-----+-----------------+---------+----------+\n",
            "|CustomerID| Name|            Email|     City|SignupDate|\n",
            "+----------+-----+-----------------+---------+----------+\n",
            "|       101|  Ali|    ali@gmail.com|   mumbai|2022-05-10|\n",
            "|       102| Neha|   neha@yahoo.com|    delhi|2023-01-15|\n",
            "|       103| Ravi| ravi@hotmail.com|bangalore|2021-11-01|\n",
            "|       104|Sneha|sneha@outlook.com|hyderabad|2020-07-22|\n",
            "|       105| Amit|   amit@gmail.com|  chennai|2023-03-10|\n",
            "+----------+-----+-----------------+---------+----------+\n",
            "\n",
            "+-------+----------+---------+-----------+--------+-------+----------+-----------+---------+\n",
            "|OrderID|CustomerID|  Product|   Category|Quantity|  Price| OrderDate|TotalAmount|OrderYear|\n",
            "+-------+----------+---------+-----------+--------+-------+----------+-----------+---------+\n",
            "|      1|       101|   Laptop|Electronics|       2|50000.0|2024-01-10|   100000.0|     2024|\n",
            "|      2|       101|    Mouse|Electronics|       1| 1200.0|2024-01-15|     1200.0|     2024|\n",
            "|      3|       102|   Tablet|Electronics|       1|20000.0|2024-02-01|    20000.0|     2024|\n",
            "|      4|       103|Bookshelf|  Furniture|       1| 3500.0|2024-02-10|     3500.0|     2024|\n",
            "|      5|       104|    Mixer| Appliances|       1| 5000.0|2024-02-15|     5000.0|     2024|\n",
            "|      6|       105| Notebook| Stationery|       5|  500.0|2024-03-01|     2500.0|     2024|\n",
            "|      7|       102|    Phone|Electronics|       1|30000.0|2024-03-02|    30000.0|     2024|\n",
            "+-------+----------+---------+-----------+--------+-------+----------+-----------+---------+\n",
            "\n",
            "+-------+----------+---------+-----------+--------+-------+----------+-----------+---------+\n",
            "|OrderID|CustomerID|  Product|   Category|Quantity|  Price| OrderDate|TotalAmount|OrderYear|\n",
            "+-------+----------+---------+-----------+--------+-------+----------+-----------+---------+\n",
            "|      1|       101|   Laptop|Electronics|       2|50000.0|2024-01-10|   100000.0|     2024|\n",
            "|      2|       101|    Mouse|Electronics|       1| 1200.0|2024-01-15|     1200.0|     2024|\n",
            "|      3|       102|   Tablet|Electronics|       1|20000.0|2024-02-01|    20000.0|     2024|\n",
            "|      4|       103|Bookshelf|  Furniture|       1| 3500.0|2024-02-10|     3500.0|     2024|\n",
            "|      5|       104|    Mixer| Appliances|       1| 5000.0|2024-02-15|     5000.0|     2024|\n",
            "|      6|       105| Notebook| Stationery|       5|  500.0|2024-03-01|     2500.0|     2024|\n",
            "|      7|       102|    Phone|Electronics|       1|30000.0|2024-03-02|    30000.0|     2024|\n",
            "+-------+----------+---------+-----------+--------+-------+----------+-----------+---------+\n",
            "\n",
            "+-------+-----------+-------------+\n",
            "|OrderID|TotalAmount|OrderCategory|\n",
            "+-------+-----------+-------------+\n",
            "|      1|   100000.0|         High|\n",
            "|      2|     1200.0|          Low|\n",
            "|      3|    20000.0|       Medium|\n",
            "|      4|     3500.0|          Low|\n",
            "|      5|     5000.0|       Medium|\n",
            "|      6|     2500.0|          Low|\n",
            "|      7|    30000.0|         High|\n",
            "+-------+-----------+-------------+\n",
            "\n"
          ]
        }
      ]
    },
    {
      "cell_type": "markdown",
      "source": [
        "#SECTION B: Spark SQL Tasks"
      ],
      "metadata": {
        "id": "WyS2HCePLFOp"
      }
    },
    {
      "cell_type": "code",
      "source": [
        "# Register Temp Views for SQL\n",
        "orders_df.createOrReplaceTempView(\"orders\")\n",
        "customers_df.createOrReplaceTempView(\"customers\")\n",
        "\n",
        "# Q7. Run a SQL query to list all orders made by “Ali”\n",
        "spark.sql(\"\"\"\n",
        "    SELECT * FROM orders\n",
        "    WHERE CustomerID = (SELECT CustomerID FROM customers WHERE Name = 'Ali')\n",
        "\"\"\").show()\n",
        "\n",
        "# Q8. Get total spending by each customer using SQL\n",
        "spark.sql(\"\"\"\n",
        "    SELECT o.CustomerID, SUM(o.TotalAmount) AS TotalSpending\n",
        "    FROM orders o\n",
        "    GROUP BY o.CustomerID\n",
        "\"\"\").show()\n",
        "\n",
        "# Q9. Find out which category made the highest total revenue\n",
        "spark.sql(\"\"\"\n",
        "    SELECT Category, SUM(TotalAmount) AS Revenue\n",
        "    FROM orders\n",
        "    GROUP BY Category\n",
        "    ORDER BY Revenue DESC\n",
        "    LIMIT 1\n",
        "\"\"\").show()\n",
        "\n",
        "# Q10. Create a view customer_orders showing CustomerName, Product, TotalAmount\n",
        "spark.sql(\"\"\"\n",
        "    CREATE OR REPLACE TEMP VIEW customer_orders AS\n",
        "    SELECT c.Name AS CustomerName, o.Product, o.TotalAmount\n",
        "    FROM customers c\n",
        "    JOIN orders o ON c.CustomerID = o.CustomerID\n",
        "\"\"\")\n",
        "\n",
        "# Q11. Query the view for products ordered after Feb 2024\n",
        "spark.sql(\"\"\"\n",
        "    SELECT * FROM customer_orders\n",
        "    JOIN orders o ON customer_orders.Product = o.Product\n",
        "    WHERE o.OrderDate > '2024-02-28'\n",
        "\"\"\").show()\n"
      ],
      "metadata": {
        "colab": {
          "base_uri": "https://localhost:8080/"
        },
        "id": "gywmpV4CLE6T",
        "outputId": "9ca44946-f668-4e5f-ee73-d4b070967c68"
      },
      "execution_count": 8,
      "outputs": [
        {
          "output_type": "stream",
          "name": "stdout",
          "text": [
            "+-------+----------+-------+-----------+--------+-------+----------+-----------+---------+-------------+\n",
            "|OrderID|CustomerID|Product|   Category|Quantity|  Price| OrderDate|TotalAmount|OrderYear|OrderCategory|\n",
            "+-------+----------+-------+-----------+--------+-------+----------+-----------+---------+-------------+\n",
            "|      1|       101| Laptop|Electronics|       2|50000.0|2024-01-10|   100000.0|     2024|         High|\n",
            "|      2|       101|  Mouse|Electronics|       1| 1200.0|2024-01-15|     1200.0|     2024|          Low|\n",
            "+-------+----------+-------+-----------+--------+-------+----------+-----------+---------+-------------+\n",
            "\n",
            "+----------+-------------+\n",
            "|CustomerID|TotalSpending|\n",
            "+----------+-------------+\n",
            "|       101|     101200.0|\n",
            "|       102|      50000.0|\n",
            "|       103|       3500.0|\n",
            "|       104|       5000.0|\n",
            "|       105|       2500.0|\n",
            "+----------+-------------+\n",
            "\n",
            "+-----------+--------+\n",
            "|   Category| Revenue|\n",
            "+-----------+--------+\n",
            "|Electronics|151200.0|\n",
            "+-----------+--------+\n",
            "\n",
            "+------------+--------+-----------+-------+----------+--------+-----------+--------+-------+----------+-----------+---------+-------------+\n",
            "|CustomerName| Product|TotalAmount|OrderID|CustomerID| Product|   Category|Quantity|  Price| OrderDate|TotalAmount|OrderYear|OrderCategory|\n",
            "+------------+--------+-----------+-------+----------+--------+-----------+--------+-------+----------+-----------+---------+-------------+\n",
            "|        Neha|   Phone|    30000.0|      7|       102|   Phone|Electronics|       1|30000.0|2024-03-02|    30000.0|     2024|         High|\n",
            "|        Amit|Notebook|     2500.0|      6|       105|Notebook| Stationery|       5|  500.0|2024-03-01|     2500.0|     2024|          Low|\n",
            "+------------+--------+-----------+-------+----------+--------+-----------+--------+-------+----------+-----------+---------+-------------+\n",
            "\n"
          ]
        }
      ]
    },
    {
      "cell_type": "markdown",
      "source": [
        "#SECTION C: Advanced Practice\n",
        "\n"
      ],
      "metadata": {
        "id": "j9pmkNTHLZi_"
      }
    },
    {
      "cell_type": "code",
      "source": [
        "# Q12. Create a Global Temp View from customers_df\n",
        "customers_df.createOrReplaceGlobalTempView(\"customers\")\n",
        "spark.sql(\"SELECT * FROM global_temp.customers WHERE City = 'mumbai'\").show()\n",
        "\n",
        "# Q13. Save the transformed orders_df (with TotalAmount) to a Parquet file\n",
        "orders_df.write.mode(\"overwrite\").parquet(\"/tmp/orders_parquet\")\n",
        "\n",
        "# Q14. Read back the Parquet file and count how many orders are in it\n",
        "read_df = spark.read.parquet(\"/tmp/orders_parquet\")\n",
        "print(\"Total Orders:\", read_df.count())\n"
      ],
      "metadata": {
        "colab": {
          "base_uri": "https://localhost:8080/"
        },
        "id": "3H77870RLcV0",
        "outputId": "ed35949c-1e3c-4a0a-f5f0-98454bb32935"
      },
      "execution_count": 9,
      "outputs": [
        {
          "output_type": "stream",
          "name": "stdout",
          "text": [
            "+----------+----+-------------+------+----------+\n",
            "|CustomerID|Name|        Email|  City|SignupDate|\n",
            "+----------+----+-------------+------+----------+\n",
            "|       101| Ali|ali@gmail.com|mumbai|2022-05-10|\n",
            "+----------+----+-------------+------+----------+\n",
            "\n",
            "Total Orders: 7\n"
          ]
        }
      ]
    },
    {
      "cell_type": "markdown",
      "source": [
        "#SECTION D: UDF + Built-in Function Tasks"
      ],
      "metadata": {
        "id": "aRxP_8iALxpH"
      }
    },
    {
      "cell_type": "code",
      "source": [
        "# Q15. UDF to mask emails\n",
        "def mask_email(email):\n",
        "    user, domain = email.split('@')\n",
        "    return user[0] + \"***@\" + domain\n",
        "\n",
        "mask_udf = udf(mask_email, StringType())\n",
        "customers_df = customers_df.withColumn(\"MaskedEmail\", mask_udf(col(\"Email\")))\n",
        "customers_df.select(\"Email\", \"MaskedEmail\").show()\n",
        "\n",
        "# Q16. Use concat_ws() to create label like 'Ali from Mumbai'\n",
        "customers_df = customers_df.withColumn(\"Label\", concat_ws(\" from \", col(\"Name\"), col(\"City\")))\n",
        "customers_df.select(\"Label\").show()\n",
        "\n",
        "# Q17. Use regexp_replace() to remove special characters from product names\n",
        "orders_df = orders_df.withColumn(\"CleanProduct\", regexp_replace(\"Product\", \"[^a-zA-Z0-9]\", \"\"))\n",
        "orders_df.select(\"Product\", \"CleanProduct\").show()\n",
        "\n",
        "# Q18. Use to_date() and datediff() to calculate customer age in days\n",
        "customers_df = customers_df.withColumn(\"SignupDate\", to_date(\"SignupDate\"))\n",
        "today_str = date.today().strftime('%Y-%m-%d')\n",
        "customers_df = customers_df.withColumn(\"AgeInDays\", datediff(lit(today_str), col(\"SignupDate\")))\n",
        "customers_df.select(\"Name\", \"SignupDate\", \"AgeInDays\").show()\n"
      ],
      "metadata": {
        "colab": {
          "base_uri": "https://localhost:8080/"
        },
        "id": "eSLNXeRQL0TA",
        "outputId": "c7eb3a4b-a417-4ae6-e5b3-35b99fc4058f"
      },
      "execution_count": 10,
      "outputs": [
        {
          "output_type": "stream",
          "name": "stdout",
          "text": [
            "+-----------------+----------------+\n",
            "|            Email|     MaskedEmail|\n",
            "+-----------------+----------------+\n",
            "|    ali@gmail.com|  a***@gmail.com|\n",
            "|   neha@yahoo.com|  n***@yahoo.com|\n",
            "| ravi@hotmail.com|r***@hotmail.com|\n",
            "|sneha@outlook.com|s***@outlook.com|\n",
            "|   amit@gmail.com|  a***@gmail.com|\n",
            "+-----------------+----------------+\n",
            "\n",
            "+--------------------+\n",
            "|               Label|\n",
            "+--------------------+\n",
            "|     Ali from mumbai|\n",
            "|     Neha from delhi|\n",
            "| Ravi from bangalore|\n",
            "|Sneha from hyderabad|\n",
            "|   Amit from chennai|\n",
            "+--------------------+\n",
            "\n",
            "+---------+------------+\n",
            "|  Product|CleanProduct|\n",
            "+---------+------------+\n",
            "|   Laptop|      Laptop|\n",
            "|    Mouse|       Mouse|\n",
            "|   Tablet|      Tablet|\n",
            "|Bookshelf|   Bookshelf|\n",
            "|    Mixer|       Mixer|\n",
            "| Notebook|    Notebook|\n",
            "|    Phone|       Phone|\n",
            "+---------+------------+\n",
            "\n",
            "+-----+----------+---------+\n",
            "| Name|SignupDate|AgeInDays|\n",
            "+-----+----------+---------+\n",
            "|  Ali|2022-05-10|     1121|\n",
            "| Neha|2023-01-15|      871|\n",
            "| Ravi|2021-11-01|     1311|\n",
            "|Sneha|2020-07-22|     1778|\n",
            "| Amit|2023-03-10|      817|\n",
            "+-----+----------+---------+\n",
            "\n"
          ]
        }
      ]
    }
  ]
}