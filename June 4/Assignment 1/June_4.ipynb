{
  "nbformat": 4,
  "nbformat_minor": 0,
  "metadata": {
    "colab": {
      "provenance": []
    },
    "kernelspec": {
      "name": "python3",
      "display_name": "Python 3"
    },
    "language_info": {
      "name": "python"
    }
  },
  "cells": [
    {
      "cell_type": "code",
      "execution_count": 2,
      "metadata": {
        "id": "w_57Vaf-bWQb"
      },
      "outputs": [],
      "source": [
        "from pyspark.sql import SparkSession\n",
        "\n",
        "spark = SparkSession.builder \\\n",
        "    .appName(\"Sales DB\") \\\n",
        "    .getOrCreate()\n"
      ]
    },
    {
      "cell_type": "markdown",
      "source": [
        "#Database & Table Tasks\n"
      ],
      "metadata": {
        "id": "eKvA1DX5cgIS"
      }
    },
    {
      "cell_type": "code",
      "source": [
        "# Q1. Create a new database named sales_db\n",
        "spark.sql(\"CREATE DATABASE IF NOT EXISTS sales_db\")\n",
        "\n",
        "# Q2. Set the current database to sales_db\n",
        "spark.sql(\"USE sales_db\")\n",
        "\n",
        "# Q3. Create a table product_sales\n",
        "spark.sql(\"\"\"\n",
        "CREATE TABLE IF NOT EXISTS product_sales (\n",
        "    ProductID INT,\n",
        "    ProductName STRING,\n",
        "    Category STRING,\n",
        "    Price DOUBLE,\n",
        "    Quantity INT,\n",
        "    SaleDate DATE\n",
        ")\n",
        "USING PARQUET\n",
        "\"\"\")\n",
        "\n",
        "# Q4. Insert at least 5 rows into product_sales\n",
        "spark.sql(\"\"\"\n",
        "INSERT INTO product_sales VALUES\n",
        "(101, 'Laptop', 'Electronics', 75000, 1, DATE('2024-05-01')),\n",
        "(102, 'Headphones', 'Electronics', 2500, 2, DATE('2024-05-02')),\n",
        "(103, 'Shirt', 'Fashion', 1200, 3, DATE('2024-05-03')),\n",
        "(104, 'Coffee Maker', 'Home Appliances', 3500, 1, DATE('2024-05-04')),\n",
        "(105, 'Smartphone', 'Electronics', 30000, 2, DATE('2024-05-05'))\n",
        "\"\"\")\n"
      ],
      "metadata": {
        "colab": {
          "base_uri": "https://localhost:8080/"
        },
        "id": "8FAlv-SvcjBf",
        "outputId": "14b874cb-20dd-469b-bc24-469b86ef0e2e"
      },
      "execution_count": 3,
      "outputs": [
        {
          "output_type": "execute_result",
          "data": {
            "text/plain": [
              "DataFrame[]"
            ]
          },
          "metadata": {},
          "execution_count": 3
        }
      ]
    },
    {
      "cell_type": "markdown",
      "source": [
        "#Query Tasks\n"
      ],
      "metadata": {
        "id": "mycsPq7scttT"
      }
    },
    {
      "cell_type": "code",
      "source": [
        "# Q5. Select all records from product_sales\n",
        "spark.sql(\"SELECT * FROM product_sales\").show()\n",
        "\n",
        "# Q6. Retrieve products where price is above 500\n",
        "spark.sql(\"SELECT * FROM product_sales WHERE Price > 500\").show()\n",
        "\n",
        "# Q7. Calculate total sale amount (Price * Quantity) for each product\n",
        "spark.sql(\"SELECT ProductName, Price, Quantity, (Price * Quantity) AS TotalSale FROM product_sales\").show()\n",
        "\n",
        "# Q8. Find the number of products sold in each Category\n",
        "spark.sql(\"SELECT Category, COUNT(*) AS ProductCount FROM product_sales GROUP BY Category\").show()\n",
        "\n",
        "# Q9. Sort products by total sales in descending order\n",
        "spark.sql(\"SELECT ProductName, (Price * Quantity) AS TotalSale FROM product_sales ORDER BY TotalSale DESC\").show()\n"
      ],
      "metadata": {
        "colab": {
          "base_uri": "https://localhost:8080/"
        },
        "id": "MUJ5P3Kmcvrm",
        "outputId": "58280776-f1f8-4fa5-b880-8b2fe012fc18"
      },
      "execution_count": 4,
      "outputs": [
        {
          "output_type": "stream",
          "name": "stdout",
          "text": [
            "+---------+------------+---------------+-------+--------+----------+\n",
            "|ProductID| ProductName|       Category|  Price|Quantity|  SaleDate|\n",
            "+---------+------------+---------------+-------+--------+----------+\n",
            "|      103|       Shirt|        Fashion| 1200.0|       3|2024-05-03|\n",
            "|      104|Coffee Maker|Home Appliances| 3500.0|       1|2024-05-04|\n",
            "|      105|  Smartphone|    Electronics|30000.0|       2|2024-05-05|\n",
            "|      101|      Laptop|    Electronics|75000.0|       1|2024-05-01|\n",
            "|      102|  Headphones|    Electronics| 2500.0|       2|2024-05-02|\n",
            "+---------+------------+---------------+-------+--------+----------+\n",
            "\n",
            "+---------+------------+---------------+-------+--------+----------+\n",
            "|ProductID| ProductName|       Category|  Price|Quantity|  SaleDate|\n",
            "+---------+------------+---------------+-------+--------+----------+\n",
            "|      103|       Shirt|        Fashion| 1200.0|       3|2024-05-03|\n",
            "|      104|Coffee Maker|Home Appliances| 3500.0|       1|2024-05-04|\n",
            "|      105|  Smartphone|    Electronics|30000.0|       2|2024-05-05|\n",
            "|      101|      Laptop|    Electronics|75000.0|       1|2024-05-01|\n",
            "|      102|  Headphones|    Electronics| 2500.0|       2|2024-05-02|\n",
            "+---------+------------+---------------+-------+--------+----------+\n",
            "\n",
            "+------------+-------+--------+---------+\n",
            "| ProductName|  Price|Quantity|TotalSale|\n",
            "+------------+-------+--------+---------+\n",
            "|       Shirt| 1200.0|       3|   3600.0|\n",
            "|Coffee Maker| 3500.0|       1|   3500.0|\n",
            "|  Smartphone|30000.0|       2|  60000.0|\n",
            "|      Laptop|75000.0|       1|  75000.0|\n",
            "|  Headphones| 2500.0|       2|   5000.0|\n",
            "+------------+-------+--------+---------+\n",
            "\n",
            "+---------------+------------+\n",
            "|       Category|ProductCount|\n",
            "+---------------+------------+\n",
            "|        Fashion|           1|\n",
            "|    Electronics|           3|\n",
            "|Home Appliances|           1|\n",
            "+---------------+------------+\n",
            "\n",
            "+------------+---------+\n",
            "| ProductName|TotalSale|\n",
            "+------------+---------+\n",
            "|      Laptop|  75000.0|\n",
            "|  Smartphone|  60000.0|\n",
            "|  Headphones|   5000.0|\n",
            "|       Shirt|   3600.0|\n",
            "|Coffee Maker|   3500.0|\n",
            "+------------+---------+\n",
            "\n"
          ]
        }
      ]
    },
    {
      "cell_type": "markdown",
      "source": [
        "#Temporary View Tasks"
      ],
      "metadata": {
        "id": "prsegpK6c3IZ"
      }
    },
    {
      "cell_type": "code",
      "source": [
        "# Q10. Create a PySpark DataFrame with dummy product data\n",
        "from pyspark.sql import Row\n",
        "\n",
        "dummy_data = [\n",
        "    Row(ProductID=201, ProductName='Tablet', Category='Electronics', Price=15000.0, Quantity=2),\n",
        "    Row(ProductID=202, ProductName='Jacket', Category='Fashion', Price=3500.0, Quantity=1)\n",
        "]\n",
        "\n",
        "temp_df = spark.createDataFrame(dummy_data)\n",
        "\n",
        "# Q11. Register it as a temporary view called temp_orders\n",
        "temp_df.createOrReplaceTempView(\"temp_orders\")\n",
        "\n",
        "# Q12. Run a SQL query to filter temp_orders where quantity > 1\n",
        "spark.sql(\"SELECT * FROM temp_orders WHERE Quantity > 1\").show()\n"
      ],
      "metadata": {
        "colab": {
          "base_uri": "https://localhost:8080/"
        },
        "id": "hIr1hc8ac50u",
        "outputId": "2ec2c40f-30ab-406c-9ec2-76ad32efef06"
      },
      "execution_count": 7,
      "outputs": [
        {
          "output_type": "stream",
          "name": "stdout",
          "text": [
            "+---------+-----------+-----------+-------+--------+\n",
            "|ProductID|ProductName|   Category|  Price|Quantity|\n",
            "+---------+-----------+-----------+-------+--------+\n",
            "|      201|     Tablet|Electronics|15000.0|       2|\n",
            "+---------+-----------+-----------+-------+--------+\n",
            "\n"
          ]
        }
      ]
    },
    {
      "cell_type": "markdown",
      "source": [
        "#Global View Tasks\n",
        "\n"
      ],
      "metadata": {
        "id": "54KzUn6gdpV2"
      }
    },
    {
      "cell_type": "code",
      "source": [
        "# Q13. Create a global temp view from a PySpark DataFrame named global_orders\n",
        "temp_df.createOrReplaceGlobalTempView(\"global_orders\")\n",
        "\n",
        "# Q14. Run a SQL query on the global view from another session or cell\n",
        "spark.sql(\"SELECT * FROM global_temp.global_orders\").show()\n"
      ],
      "metadata": {
        "colab": {
          "base_uri": "https://localhost:8080/"
        },
        "id": "_NaxUCh4dsbf",
        "outputId": "d59b8e97-2691-43ef-f5f5-659d953e8c86"
      },
      "execution_count": 8,
      "outputs": [
        {
          "output_type": "stream",
          "name": "stdout",
          "text": [
            "+---------+-----------+-----------+-------+--------+\n",
            "|ProductID|ProductName|   Category|  Price|Quantity|\n",
            "+---------+-----------+-----------+-------+--------+\n",
            "|      201|     Tablet|Electronics|15000.0|       2|\n",
            "|      202|     Jacket|    Fashion| 3500.0|       1|\n",
            "+---------+-----------+-----------+-------+--------+\n",
            "\n"
          ]
        }
      ]
    },
    {
      "cell_type": "markdown",
      "source": [
        "#Join Tasks"
      ],
      "metadata": {
        "id": "Zfi0IWDKd0D9"
      }
    },
    {
      "cell_type": "code",
      "source": [
        "# Q15. Create a second table customer_details\n",
        "spark.sql(\"\"\"\n",
        "CREATE TABLE IF NOT EXISTS customer_details (\n",
        "    CustomerID INT,\n",
        "    Name STRING,\n",
        "    Gender STRING,\n",
        "    City STRING,\n",
        "    SignupDate DATE\n",
        ")\n",
        "USING PARQUET\n",
        "\"\"\")\n",
        "\n",
        "# Q16. Insert at least 3 records into customer_details\n",
        "spark.sql(\"\"\"\n",
        "INSERT INTO customer_details VALUES\n",
        "(101, 'Ali', 'Male', 'Delhi', DATE('2023-06-01')),\n",
        "(104, 'Neha', 'Female', 'Mumbai', DATE('2023-06-10')),\n",
        "(105, 'Rahul', 'Male', 'Chennai', DATE('2023-06-15'))\n",
        "\"\"\")\n",
        "\n",
        "# Q17. Write a SQL join between product_sales and customer_details based on ProductID = CustomerID\n",
        "spark.sql(\"\"\"\n",
        "SELECT ps.ProductName, cd.Name, cd.City\n",
        "FROM product_sales ps\n",
        "JOIN customer_details cd\n",
        "ON ps.ProductID = cd.CustomerID\n",
        "\"\"\").show()\n",
        "\n",
        "# Q18. List customers who bought more than 2 products\n",
        "\n",
        "# Optional: Add a new customer who matches ProductID = 103 (Shirt, Quantity=3)\n",
        "spark.sql(\"\"\"\n",
        "INSERT INTO customer_details VALUES\n",
        "(103, 'Divya', 'Female', 'Bangalore', DATE('2023-07-01'))\n",
        "\"\"\")\n",
        "\n",
        "# Now re-run Q18\n",
        "spark.sql(\"\"\"\n",
        "SELECT cd.Name, ps.Quantity\n",
        "FROM product_sales ps\n",
        "JOIN customer_details cd\n",
        "ON ps.ProductID = cd.CustomerID\n",
        "WHERE ps.Quantity > 2\n",
        "\"\"\").show()\n"
      ],
      "metadata": {
        "colab": {
          "base_uri": "https://localhost:8080/"
        },
        "id": "9dO1SNaud1Yo",
        "outputId": "52aa7cd9-71ed-432c-ace4-6a97aaae0a78"
      },
      "execution_count": 10,
      "outputs": [
        {
          "output_type": "stream",
          "name": "stdout",
          "text": [
            "+------------+-----+-------+\n",
            "| ProductName| Name|   City|\n",
            "+------------+-----+-------+\n",
            "|Coffee Maker| Neha| Mumbai|\n",
            "|  Smartphone|Rahul|Chennai|\n",
            "|Coffee Maker| Neha| Mumbai|\n",
            "|  Smartphone|Rahul|Chennai|\n",
            "|      Laptop|  Ali|  Delhi|\n",
            "|      Laptop|  Ali|  Delhi|\n",
            "+------------+-----+-------+\n",
            "\n",
            "+-----+--------+\n",
            "| Name|Quantity|\n",
            "+-----+--------+\n",
            "|Divya|       3|\n",
            "+-----+--------+\n",
            "\n"
          ]
        }
      ]
    },
    {
      "cell_type": "markdown",
      "source": [
        "#View & Summary Tasks\n"
      ],
      "metadata": {
        "id": "Vh1NwgJKeyh-"
      }
    },
    {
      "cell_type": "code",
      "source": [
        "# Q19. Create a SQL view sales_summary\n",
        "spark.sql(\"\"\"\n",
        "CREATE OR REPLACE VIEW sales_summary AS\n",
        "SELECT ProductName, Price, Quantity, (Price * Quantity) AS Total\n",
        "FROM product_sales\n",
        "\"\"\")\n",
        "\n",
        "# Q20. Query the view for records with Total > 1000\n",
        "spark.sql(\"SELECT * FROM sales_summary WHERE Total > 1000\").show()\n"
      ],
      "metadata": {
        "colab": {
          "base_uri": "https://localhost:8080/"
        },
        "id": "xrbp7JAnerUJ",
        "outputId": "ef1579f5-908a-4f67-958b-09c7baa28d93"
      },
      "execution_count": 11,
      "outputs": [
        {
          "output_type": "stream",
          "name": "stdout",
          "text": [
            "+------------+-------+--------+-------+\n",
            "| ProductName|  Price|Quantity|  Total|\n",
            "+------------+-------+--------+-------+\n",
            "|       Shirt| 1200.0|       3| 3600.0|\n",
            "|Coffee Maker| 3500.0|       1| 3500.0|\n",
            "|  Smartphone|30000.0|       2|60000.0|\n",
            "|      Laptop|75000.0|       1|75000.0|\n",
            "|  Headphones| 2500.0|       2| 5000.0|\n",
            "+------------+-------+--------+-------+\n",
            "\n"
          ]
        }
      ]
    },
    {
      "cell_type": "markdown",
      "source": [
        "#Cleanup Tasks"
      ],
      "metadata": {
        "id": "94xIr2p5e7fi"
      }
    },
    {
      "cell_type": "code",
      "source": [
        "# Q21. Drop the view sales_summary\n",
        "spark.sql(\"DROP VIEW IF EXISTS sales_summary\")\n",
        "\n",
        "# Q22. Drop the tables product_sales and customer_details\n",
        "spark.sql(\"DROP TABLE IF EXISTS product_sales\")\n",
        "spark.sql(\"DROP TABLE IF EXISTS customer_details\")\n",
        "\n",
        "# Q23. Drop the database sales_db\n",
        "spark.sql(\"DROP DATABASE IF EXISTS sales_db CASCADE\")\n"
      ],
      "metadata": {
        "colab": {
          "base_uri": "https://localhost:8080/"
        },
        "id": "88pFnpg2e9Jl",
        "outputId": "6536f6c6-a5fd-4a65-d92e-98d63e27f9f1"
      },
      "execution_count": 12,
      "outputs": [
        {
          "output_type": "execute_result",
          "data": {
            "text/plain": [
              "DataFrame[]"
            ]
          },
          "metadata": {},
          "execution_count": 12
        }
      ]
    }
  ]
}