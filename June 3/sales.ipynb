{
  "nbformat": 4,
  "nbformat_minor": 0,
  "metadata": {
    "colab": {
      "provenance": []
    },
    "kernelspec": {
      "name": "python3",
      "display_name": "Python 3"
    },
    "language_info": {
      "name": "python"
    }
  },
  "cells": [
    {
      "cell_type": "code",
      "execution_count": 23,
      "metadata": {
        "colab": {
          "base_uri": "https://localhost:8080/",
          "height": 219
        },
        "id": "Yf9YEyUyAkZc",
        "outputId": "22c778ca-110b-4b70-b59c-340e6014e9e5"
      },
      "outputs": [
        {
          "output_type": "execute_result",
          "data": {
            "text/plain": [
              "<pyspark.sql.session.SparkSession at 0x7dac580acbd0>"
            ],
            "text/html": [
              "\n",
              "            <div>\n",
              "                <p><b>SparkSession - in-memory</b></p>\n",
              "                \n",
              "        <div>\n",
              "            <p><b>SparkContext</b></p>\n",
              "\n",
              "            <p><a href=\"http://b1412e8be22a:4040\">Spark UI</a></p>\n",
              "\n",
              "            <dl>\n",
              "              <dt>Version</dt>\n",
              "                <dd><code>v3.5.1</code></dd>\n",
              "              <dt>Master</dt>\n",
              "                <dd><code>local[*]</code></dd>\n",
              "              <dt>AppName</dt>\n",
              "                <dd><code>Colab PySpark Setup</code></dd>\n",
              "            </dl>\n",
              "        </div>\n",
              "        \n",
              "            </div>\n",
              "        "
            ]
          },
          "metadata": {},
          "execution_count": 23
        }
      ],
      "source": [
        "from pyspark.sql import SparkSession\n",
        "\n",
        "spark = SparkSession.builder \\\n",
        ".appName(\"Colab PySpark Setup\") \\\n",
        ".getOrCreate()\n",
        "\n",
        "spark"
      ]
    },
    {
      "cell_type": "code",
      "source": [
        "from google.colab import drive\n",
        "drive.mount('/content/drive')\n"
      ],
      "metadata": {
        "colab": {
          "base_uri": "https://localhost:8080/"
        },
        "id": "VTHZL5MbB9yk",
        "outputId": "6d945b07-63fd-4e09-c8ef-0b6c346ffc16"
      },
      "execution_count": 24,
      "outputs": [
        {
          "output_type": "stream",
          "name": "stdout",
          "text": [
            "Drive already mounted at /content/drive; to attempt to forcibly remount, call drive.mount(\"/content/drive\", force_remount=True).\n"
          ]
        }
      ]
    },
    {
      "cell_type": "code",
      "source": [
        " #1. DataFrame Creation and Inspection\n",
        "import pandas as pd\n",
        "\n",
        "# Replace the path with your actual file path\n",
        "file_path = '/content/drive/MyDrive/ColabData/sales_dataset.csv'\n",
        "\n",
        "# Load the CSV\n",
        "df = pd.read_csv(file_path)\n",
        "\n",
        "# Display first 5 and last 5 records\n",
        "print(\"First 5 records:\")\n",
        "print(df.head())\n",
        "print(\"\\nLast 5 records:\")\n",
        "print(df.tail())\n",
        "\n",
        "# Print schema and check data types\n",
        "print(\"\\nData Types:\")\n",
        "print(df.dtypes)\n"
      ],
      "metadata": {
        "colab": {
          "base_uri": "https://localhost:8080/"
        },
        "id": "KyhsVHZ0CU8N",
        "outputId": "6bb5ccdb-4be2-42d5-923e-8e165bfffe60"
      },
      "execution_count": 25,
      "outputs": [
        {
          "output_type": "stream",
          "name": "stdout",
          "text": [
            "First 5 records:\n",
            "   OrderID    CustomerName ProductCategory  Amount   OrderDate DeliveryStatus  \\\n",
            "0     2824   Donald Walker           Books  783.04  2024-12-26       Returned   \n",
            "1     7912    Brandon Hall       Groceries  905.00  2024-09-12      Cancelled   \n",
            "2     4611    Donald Booth         Fashion  657.96  2025-01-12       Returned   \n",
            "3     3547  Phillip Garcia         Fashion  606.89  2024-03-24       Returned   \n",
            "4     8527    Valerie Gray            Toys   77.87  2024-08-04      Delivered   \n",
            "\n",
            "   Discount              City  PaymentMode CustomerSince  \n",
            "0      0.15      Lake Joyside  Credit Card    2020-10-15  \n",
            "1      0.03     New Jamesside       Wallet    2022-03-15  \n",
            "2      0.01      Lake Roberto       Wallet    2021-08-07  \n",
            "3      0.15  West Melanieview       Wallet    2020-08-08  \n",
            "4      0.17         Mariastad         Cash    2022-11-15  \n",
            "\n",
            "Last 5 records:\n",
            "     OrderID     CustomerName ProductCategory  Amount   OrderDate  \\\n",
            "495     2930     Jaime Harris         Fashion  680.00  2025-02-16   \n",
            "496     7980       Dawn Wyatt         Fashion  285.32  2024-04-26   \n",
            "497     7770    Kristin White       Groceries  792.11  2024-08-10   \n",
            "498     6641  Jennifer Taylor            Toys  578.49  2025-04-03   \n",
            "499     4513      Rachel Owen     Electronics  904.97  2024-09-21   \n",
            "\n",
            "    DeliveryStatus  Discount             City PaymentMode CustomerSince  \n",
            "495       Returned      0.20      Robertville        Cash    2021-01-28  \n",
            "496      Cancelled      0.06       Cherylfurt         UPI    2021-04-14  \n",
            "497       Returned      0.07         Kingport         UPI    2022-11-16  \n",
            "498      Delivered      0.10  Lake Jerryburgh        Cash    2020-11-04  \n",
            "499      Delivered      0.12    East Paultown        Cash    2020-10-21  \n",
            "\n",
            "Data Types:\n",
            "OrderID              int64\n",
            "CustomerName        object\n",
            "ProductCategory     object\n",
            "Amount             float64\n",
            "OrderDate           object\n",
            "DeliveryStatus      object\n",
            "Discount           float64\n",
            "City                object\n",
            "PaymentMode         object\n",
            "CustomerSince       object\n",
            "dtype: object\n"
          ]
        }
      ]
    },
    {
      "cell_type": "code",
      "source": [
        "#2. Selection, Renaming, and Filtering\n",
        "# Select only OrderID, CustomerName, Amount\n",
        "selected_df = df[['OrderID', 'CustomerName', 'Amount']]\n",
        "print(selected_df.head())\n",
        "\n",
        "# Rename Amount to OrderAmount\n",
        "df = df.rename(columns={'Amount': 'OrderAmount'})\n",
        "print(df[['OrderID', 'CustomerName', 'OrderAmount']].head())\n",
        "\n",
        "# Filter orders where OrderAmount > 500\n",
        "high_value_orders = df[df['OrderAmount'] > 500]\n",
        "print(high_value_orders)\n",
        "\n",
        "# Filter orders from a specific city using .query()\n",
        "city_orders = df.query(\"City == 'Lake Joyside'\")\n",
        "print(city_orders)\n"
      ],
      "metadata": {
        "colab": {
          "base_uri": "https://localhost:8080/"
        },
        "id": "zCoUEk-RCaXo",
        "outputId": "1f8c0e1b-fa60-449f-e66c-4b83db8c982d"
      },
      "execution_count": 6,
      "outputs": [
        {
          "output_type": "stream",
          "name": "stdout",
          "text": [
            "   OrderID    CustomerName  Amount\n",
            "0     2824   Donald Walker  783.04\n",
            "1     7912    Brandon Hall  905.00\n",
            "2     4611    Donald Booth  657.96\n",
            "3     3547  Phillip Garcia  606.89\n",
            "4     8527    Valerie Gray   77.87\n",
            "   OrderID    CustomerName  OrderAmount\n",
            "0     2824   Donald Walker       783.04\n",
            "1     7912    Brandon Hall       905.00\n",
            "2     4611    Donald Booth       657.96\n",
            "3     3547  Phillip Garcia       606.89\n",
            "4     8527    Valerie Gray        77.87\n",
            "     OrderID        CustomerName ProductCategory  OrderAmount   OrderDate  \\\n",
            "0       2824       Donald Walker           Books       783.04  2024-12-26   \n",
            "1       7912        Brandon Hall       Groceries       905.00  2024-09-12   \n",
            "2       4611        Donald Booth         Fashion       657.96  2025-01-12   \n",
            "3       3547      Phillip Garcia         Fashion       606.89  2024-03-24   \n",
            "9       6155  Jonathan Wilkerson         Fashion       882.68  2024-10-14   \n",
            "..       ...                 ...             ...          ...         ...   \n",
            "493     6742      Natalie Juarez       Groceries       531.55  2024-11-25   \n",
            "495     2930        Jaime Harris         Fashion       680.00  2025-02-16   \n",
            "497     7770       Kristin White       Groceries       792.11  2024-08-10   \n",
            "498     6641     Jennifer Taylor            Toys       578.49  2025-04-03   \n",
            "499     4513         Rachel Owen     Electronics       904.97  2024-09-21   \n",
            "\n",
            "    DeliveryStatus  Discount              City  PaymentMode CustomerSince  \n",
            "0         Returned      0.15      Lake Joyside  Credit Card    2020-10-15  \n",
            "1        Cancelled      0.03     New Jamesside       Wallet    2022-03-15  \n",
            "2         Returned      0.01      Lake Roberto       Wallet    2021-08-07  \n",
            "3         Returned      0.15  West Melanieview       Wallet    2020-08-08  \n",
            "9        Cancelled      0.27        Thomasberg         Cash    2021-06-20  \n",
            "..             ...       ...               ...          ...           ...  \n",
            "493        Pending      0.01  South Dennisfort       Wallet    2021-05-29  \n",
            "495       Returned      0.20       Robertville         Cash    2021-01-28  \n",
            "497       Returned      0.07          Kingport          UPI    2022-11-16  \n",
            "498      Delivered      0.10   Lake Jerryburgh         Cash    2020-11-04  \n",
            "499      Delivered      0.12     East Paultown         Cash    2020-10-21  \n",
            "\n",
            "[269 rows x 10 columns]\n",
            "   OrderID   CustomerName ProductCategory  OrderAmount   OrderDate  \\\n",
            "0     2824  Donald Walker           Books       783.04  2024-12-26   \n",
            "\n",
            "  DeliveryStatus  Discount          City  PaymentMode CustomerSince  \n",
            "0       Returned      0.15  Lake Joyside  Credit Card    2020-10-15  \n"
          ]
        }
      ]
    },
    {
      "cell_type": "code",
      "source": [
        "#3. Data Manipulation\n",
        "# Drop CustomerSince column\n",
        "df = df.drop(columns=['CustomerSince'])\n",
        "\n",
        "# Add FinalAmount = OrderAmount - (OrderAmount * Discount)\n",
        "df['FinalAmount'] = df['OrderAmount'] - (df['OrderAmount'] * df['Discount'])\n",
        "\n",
        "# Sort by FinalAmount descending\n",
        "sorted_df = df.sort_values(by='FinalAmount', ascending=False)\n",
        "print(sorted_df[['OrderID', 'CustomerName', 'FinalAmount']].head())\n",
        "\n",
        "# Replace all “Cancelled” status with “Order Cancelled”\n",
        "df['DeliveryStatus'] = df['DeliveryStatus'].replace('Cancelled', 'Order Cancelled')\n",
        "print(df['DeliveryStatus'].value_counts())\n"
      ],
      "metadata": {
        "colab": {
          "base_uri": "https://localhost:8080/"
        },
        "id": "dcPNtOxVDp7L",
        "outputId": "c38274ed-7877-4ca9-973a-c2e57601d722"
      },
      "execution_count": 7,
      "outputs": [
        {
          "output_type": "stream",
          "name": "stdout",
          "text": [
            "     OrderID    CustomerName  FinalAmount\n",
            "43      5573  Jordan Frazier     961.4290\n",
            "433     8474     Heidi Brown     949.5318\n",
            "485     8889     Karen Garza     938.4020\n",
            "33      2127    Jaclyn Moore     923.9868\n",
            "234     9806   Samantha Gill     923.6481\n",
            "DeliveryStatus\n",
            "Order Cancelled    149\n",
            "Delivered          119\n",
            "Returned           117\n",
            "Pending            115\n",
            "Name: count, dtype: int64\n"
          ]
        }
      ]
    },
    {
      "cell_type": "code",
      "source": [
        "#4. Aggregations and GroupBy\n",
        "# Count of orders by DeliveryStatus\n",
        "print(df['DeliveryStatus'].value_counts())\n",
        "\n",
        "# Average OrderAmount by ProductCategory\n",
        "print(df.groupby('ProductCategory')['OrderAmount'].mean())\n",
        "\n",
        "# Group by City and show total sales\n",
        "print(df.groupby('City')['OrderAmount'].sum().sort_values(ascending=False))\n"
      ],
      "metadata": {
        "colab": {
          "base_uri": "https://localhost:8080/"
        },
        "id": "mA39OFO0DwxV",
        "outputId": "b5475f8b-42b1-4e1a-c33a-a6f2fcbd7fde"
      },
      "execution_count": 8,
      "outputs": [
        {
          "output_type": "stream",
          "name": "stdout",
          "text": [
            "DeliveryStatus\n",
            "Order Cancelled    149\n",
            "Delivered          119\n",
            "Returned           117\n",
            "Pending            115\n",
            "Name: count, dtype: int64\n",
            "ProductCategory\n",
            "Books          568.600377\n",
            "Electronics    551.745000\n",
            "Fashion        500.630824\n",
            "Groceries      459.517864\n",
            "Toys           534.283750\n",
            "Name: OrderAmount, dtype: float64\n",
            "City\n",
            "Smithside         1842.13\n",
            "Meganside         1607.89\n",
            "West Jessica      1249.33\n",
            "Armstrongfort     1226.18\n",
            "East Robert       1194.50\n",
            "                   ...   \n",
            "Millerview          20.64\n",
            "Grayside            14.09\n",
            "West Dawnmouth      12.80\n",
            "Reedmouth           12.37\n",
            "Williamsmouth       10.78\n",
            "Name: OrderAmount, Length: 489, dtype: float64\n"
          ]
        }
      ]
    },
    {
      "cell_type": "code",
      "source": [
        "#5. Null Handling & Update\n",
        "# Inject nulls in City column for demonstration\n",
        "df.loc[0:5, 'City'] = None\n",
        "\n",
        "# Fill nulls with 'Unknown'\n",
        "df['City'] = df['City'].fillna('Unknown')\n",
        "\n",
        "# Drop rows with any nulls (optional)\n",
        "# df = df.dropna()\n",
        "\n",
        "# Tag high-value customers (OrderAmount > 800)\n",
        "df['HighValueCustomer'] = df['OrderAmount'].apply(lambda x: 'Yes' if x > 800 else 'No')\n",
        "print(df[['OrderID', 'OrderAmount', 'HighValueCustomer']].head())\n"
      ],
      "metadata": {
        "colab": {
          "base_uri": "https://localhost:8080/"
        },
        "id": "WbYLqaA5D3Gb",
        "outputId": "61772aa0-ef75-4a4c-c172-84185736e5a6"
      },
      "execution_count": 9,
      "outputs": [
        {
          "output_type": "stream",
          "name": "stdout",
          "text": [
            "   OrderID  OrderAmount HighValueCustomer\n",
            "0     2824       783.04                No\n",
            "1     7912       905.00               Yes\n",
            "2     4611       657.96                No\n",
            "3     3547       606.89                No\n",
            "4     8527        77.87                No\n"
          ]
        }
      ]
    },
    {
      "cell_type": "code",
      "source": [
        "#6. Date & Time Functions\n",
        "from datetime import datetime\n",
        "\n",
        "# Convert OrderDate and CustomerSince to datetime\n",
        "df['OrderDate'] = pd.to_datetime(df['OrderDate'])\n",
        "df['CustomerSince'] = pd.to_datetime(df['CustomerSince'])\n",
        "\n",
        "# Extract year and month from OrderDate\n",
        "df['OrderYear'] = df['OrderDate'].dt.year\n",
        "df['OrderMonth'] = df['OrderDate'].dt.month\n",
        "\n",
        "# Calculate customer loyalty in years\n",
        "df['LoyaltyYears'] = (pd.to_datetime(\"today\") - df['CustomerSince']).dt.days // 365\n",
        "print(df[['CustomerName', 'OrderYear', 'OrderMonth', 'LoyaltyYears']].head())\n"
      ],
      "metadata": {
        "colab": {
          "base_uri": "https://localhost:8080/"
        },
        "id": "wo5BrZqiD_o3",
        "outputId": "8932a619-37af-436f-d721-dd7b717174db"
      },
      "execution_count": 14,
      "outputs": [
        {
          "output_type": "stream",
          "name": "stdout",
          "text": [
            "     CustomerName  OrderYear  OrderMonth  LoyaltyYears\n",
            "0   Donald Walker       2024          12             4\n",
            "1    Brandon Hall       2024           9             3\n",
            "2    Donald Booth       2025           1             3\n",
            "3  Phillip Garcia       2024           3             4\n",
            "4    Valerie Gray       2024           8             2\n"
          ]
        }
      ]
    },
    {
      "cell_type": "code",
      "source": [
        "#7. Joins and Unions\n",
        "# Get unique cities\n",
        "unique_cities = df['City'].dropna().unique()\n",
        "num_cities = len(unique_cities)\n",
        "\n",
        "# Repeat and slice region names to match city count\n",
        "region_list = (['North', 'South', 'East', 'West'] * ((num_cities // 4) + 1))[:num_cities]\n",
        "\n",
        "# Create mapping DataFrame\n",
        "city_region_df = pd.DataFrame({\n",
        "    'City': unique_cities,\n",
        "    'Region': region_list\n",
        "})\n",
        "\n",
        "# Inner join\n",
        "inner_join = pd.merge(df, city_region_df, on='City', how='inner')\n",
        "print(inner_join[['City', 'Region']].head())\n",
        "\n",
        "# Left join\n",
        "left_join = pd.merge(df, city_region_df, on='City', how='left')\n",
        "print(left_join[['City', 'Region']].head())\n"
      ],
      "metadata": {
        "colab": {
          "base_uri": "https://localhost:8080/"
        },
        "id": "-xLVhV8VGNnM",
        "outputId": "d85b700b-e658-42c5-8dac-8fb85fec278c"
      },
      "execution_count": 20,
      "outputs": [
        {
          "output_type": "stream",
          "name": "stdout",
          "text": [
            "               City Region\n",
            "0      Lake Joyside  North\n",
            "1     New Jamesside  South\n",
            "2      Lake Roberto   East\n",
            "3  West Melanieview   West\n",
            "4         Mariastad  North\n",
            "               City Region\n",
            "0      Lake Joyside  North\n",
            "1     New Jamesside  South\n",
            "2      Lake Roberto   East\n",
            "3  West Melanieview   West\n",
            "4         Mariastad  North\n"
          ]
        }
      ]
    },
    {
      "cell_type": "code",
      "source": [
        "#8. Complex JSON Simulation\n",
        "import json\n",
        "\n",
        "# Convert each order to a JSON string\n",
        "df['OrderJSON'] = df.apply(lambda x: json.dumps(x.to_dict()), axis=1)\n",
        "print(df['OrderJSON'].head())\n",
        "\n",
        "# Load JSON strings back into dictionaries\n",
        "df['ParsedJSON'] = df['OrderJSON'].apply(json.loads)\n",
        "print(df['ParsedJSON'].head())\n"
      ],
      "metadata": {
        "colab": {
          "base_uri": "https://localhost:8080/"
        },
        "id": "JRkXM8jMGnc3",
        "outputId": "d5664e70-f579-4cbe-cca8-ad6d26957bd9"
      },
      "execution_count": 21,
      "outputs": [
        {
          "output_type": "stream",
          "name": "stdout",
          "text": [
            "0    {\"OrderID\": 2824, \"CustomerName\": \"Donald Walk...\n",
            "1    {\"OrderID\": 7912, \"CustomerName\": \"Brandon Hal...\n",
            "2    {\"OrderID\": 4611, \"CustomerName\": \"Donald Boot...\n",
            "3    {\"OrderID\": 3547, \"CustomerName\": \"Phillip Gar...\n",
            "4    {\"OrderID\": 8527, \"CustomerName\": \"Valerie Gra...\n",
            "Name: OrderJSON, dtype: object\n",
            "0    {'OrderID': 2824, 'CustomerName': 'Donald Walk...\n",
            "1    {'OrderID': 7912, 'CustomerName': 'Brandon Hal...\n",
            "2    {'OrderID': 4611, 'CustomerName': 'Donald Boot...\n",
            "3    {'OrderID': 3547, 'CustomerName': 'Phillip Gar...\n",
            "4    {'OrderID': 8527, 'CustomerName': 'Valerie Gra...\n",
            "Name: ParsedJSON, dtype: object\n"
          ]
        }
      ]
    },
    {
      "cell_type": "code",
      "source": [
        "# Function to tag orders by size\n",
        "def tag_order(amount):\n",
        "    if amount > 800:\n",
        "        return \"Big\"\n",
        "    elif amount > 300:\n",
        "        return \"Medium\"\n",
        "    else:\n",
        "        return \"Small\"\n",
        "\n",
        "# Apply function (use correct column name)\n",
        "df['OrderSize'] = df['Amount'].apply(tag_order)\n",
        "print(df[['OrderID', 'Amount', 'OrderSize']].head())\n"
      ],
      "metadata": {
        "colab": {
          "base_uri": "https://localhost:8080/"
        },
        "id": "qoY_bMqTIC6i",
        "outputId": "aeb05ed9-8a84-49df-9ba0-3121b24a43f7"
      },
      "execution_count": 27,
      "outputs": [
        {
          "output_type": "stream",
          "name": "stdout",
          "text": [
            "   OrderID  Amount OrderSize\n",
            "0     2824  783.04    Medium\n",
            "1     7912  905.00       Big\n",
            "2     4611  657.96    Medium\n",
            "3     3547  606.89    Medium\n",
            "4     8527   77.87     Small\n"
          ]
        }
      ]
    }
  ]
}