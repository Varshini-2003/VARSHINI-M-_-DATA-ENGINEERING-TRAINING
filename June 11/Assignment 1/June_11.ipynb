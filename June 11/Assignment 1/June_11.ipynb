{
  "nbformat": 4,
  "nbformat_minor": 0,
  "metadata": {
    "colab": {
      "provenance": []
    },
    "kernelspec": {
      "name": "python3",
      "display_name": "Python 3"
    },
    "language_info": {
      "name": "python"
    }
  },
  "cells": [
    {
      "cell_type": "code",
      "execution_count": 1,
      "metadata": {
        "id": "KA3Jl5zMi81B"
      },
      "outputs": [],
      "source": [
        "from pyspark.sql import SparkSession"
      ]
    },
    {
      "cell_type": "code",
      "source": [
        "spark=SparkSession.builder.appName('practise').getOrCreate()"
      ],
      "metadata": {
        "id": "Qt8EQ93vjWyf"
      },
      "execution_count": 8,
      "outputs": []
    },
    {
      "cell_type": "code",
      "source": [
        "spark"
      ],
      "metadata": {
        "colab": {
          "base_uri": "https://localhost:8080/",
          "height": 219
        },
        "id": "_EBYZ4g-krug",
        "outputId": "29b877cd-3af2-4e48-9ca0-9b25428c064a"
      },
      "execution_count": 9,
      "outputs": [
        {
          "output_type": "execute_result",
          "data": {
            "text/plain": [
              "<pyspark.sql.session.SparkSession at 0x79afc3bdd350>"
            ],
            "text/html": [
              "\n",
              "            <div>\n",
              "                <p><b>SparkSession - in-memory</b></p>\n",
              "                \n",
              "        <div>\n",
              "            <p><b>SparkContext</b></p>\n",
              "\n",
              "            <p><a href=\"http://cdba7967fe7a:4040\">Spark UI</a></p>\n",
              "\n",
              "            <dl>\n",
              "              <dt>Version</dt>\n",
              "                <dd><code>v3.5.1</code></dd>\n",
              "              <dt>Master</dt>\n",
              "                <dd><code>local[*]</code></dd>\n",
              "              <dt>AppName</dt>\n",
              "                <dd><code>practise</code></dd>\n",
              "            </dl>\n",
              "        </div>\n",
              "        \n",
              "            </div>\n",
              "        "
            ]
          },
          "metadata": {},
          "execution_count": 9
        }
      ]
    },
    {
      "cell_type": "code",
      "source": [
        "data = [\n",
        "    (\"Ananya\", \"HR\", 52000),\n",
        "    (\"Rahul\", \"Engineering\", 65000),\n",
        "    (\"Priya\", \"Engineering\", 60000),\n",
        "    (\"Zoya\", \"Marketing\", 48000),\n",
        "    (\"Karan\", \"HR\", 53000),\n",
        "    (\"Naveen\", \"Engineering\", 70000),\n",
        "    (\"Fatima\", \"Marketing\", 45000)\n",
        "]\n",
        "columns = [\"Name\", \"Department\", \"Salary\"]\n",
        "\n",
        "df = spark.createDataFrame(data, columns)\n",
        "df.show()"
      ],
      "metadata": {
        "colab": {
          "base_uri": "https://localhost:8080/"
        },
        "id": "qBifnqoRky7t",
        "outputId": "031e19df-16ee-4ab6-abbb-46f00bb1c7e3"
      },
      "execution_count": 10,
      "outputs": [
        {
          "output_type": "stream",
          "name": "stdout",
          "text": [
            "+------+-----------+------+\n",
            "|  Name| Department|Salary|\n",
            "+------+-----------+------+\n",
            "|Ananya|         HR| 52000|\n",
            "| Rahul|Engineering| 65000|\n",
            "| Priya|Engineering| 60000|\n",
            "|  Zoya|  Marketing| 48000|\n",
            "| Karan|         HR| 53000|\n",
            "|Naveen|Engineering| 70000|\n",
            "|Fatima|  Marketing| 45000|\n",
            "+------+-----------+------+\n",
            "\n"
          ]
        }
      ]
    },
    {
      "cell_type": "markdown",
      "source": [
        "#Set 1: Basics"
      ],
      "metadata": {
        "id": "OVGlTS3bldk_"
      }
    },
    {
      "cell_type": "code",
      "source": [
        "#1\n",
        "df.show()\n"
      ],
      "metadata": {
        "colab": {
          "base_uri": "https://localhost:8080/"
        },
        "id": "Xhj3_Jl3lRrt",
        "outputId": "1f96466b-9efd-49a2-d837-9ae0d35b0f9b"
      },
      "execution_count": 11,
      "outputs": [
        {
          "output_type": "stream",
          "name": "stdout",
          "text": [
            "+------+-----------+------+\n",
            "|  Name| Department|Salary|\n",
            "+------+-----------+------+\n",
            "|Ananya|         HR| 52000|\n",
            "| Rahul|Engineering| 65000|\n",
            "| Priya|Engineering| 60000|\n",
            "|  Zoya|  Marketing| 48000|\n",
            "| Karan|         HR| 53000|\n",
            "|Naveen|Engineering| 70000|\n",
            "|Fatima|  Marketing| 45000|\n",
            "+------+-----------+------+\n",
            "\n"
          ]
        }
      ]
    },
    {
      "cell_type": "code",
      "source": [
        "#2\n",
        "df.printSchema()\n"
      ],
      "metadata": {
        "colab": {
          "base_uri": "https://localhost:8080/"
        },
        "id": "hJWgSWaYllsv",
        "outputId": "d36685df-b198-4b86-d874-abfb8efc7110"
      },
      "execution_count": 12,
      "outputs": [
        {
          "output_type": "stream",
          "name": "stdout",
          "text": [
            "root\n",
            " |-- Name: string (nullable = true)\n",
            " |-- Department: string (nullable = true)\n",
            " |-- Salary: long (nullable = true)\n",
            "\n"
          ]
        }
      ]
    },
    {
      "cell_type": "code",
      "source": [
        "#3\n",
        "df.count()\n"
      ],
      "metadata": {
        "colab": {
          "base_uri": "https://localhost:8080/"
        },
        "id": "sittrtwnlnjl",
        "outputId": "b892b020-f2cc-4760-c241-53b7a902b2c5"
      },
      "execution_count": 13,
      "outputs": [
        {
          "output_type": "execute_result",
          "data": {
            "text/plain": [
              "7"
            ]
          },
          "metadata": {},
          "execution_count": 13
        }
      ]
    },
    {
      "cell_type": "markdown",
      "source": [
        "#Set 2: Column Operations\n"
      ],
      "metadata": {
        "id": "2jIVZemnlwML"
      }
    },
    {
      "cell_type": "code",
      "source": [
        "#4\n",
        "df = df.withColumn(\"Bonus\", df[\"Salary\"] * 0.15)\n",
        "df.show()\n"
      ],
      "metadata": {
        "colab": {
          "base_uri": "https://localhost:8080/"
        },
        "id": "O4YORD1OlzJd",
        "outputId": "5450a076-113b-4e58-b4f7-91a66b25a448"
      },
      "execution_count": 15,
      "outputs": [
        {
          "output_type": "stream",
          "name": "stdout",
          "text": [
            "+------+-----------+------+-------+\n",
            "|  Name| Department|Salary|  Bonus|\n",
            "+------+-----------+------+-------+\n",
            "|Ananya|         HR| 52000| 7800.0|\n",
            "| Rahul|Engineering| 65000| 9750.0|\n",
            "| Priya|Engineering| 60000| 9000.0|\n",
            "|  Zoya|  Marketing| 48000| 7200.0|\n",
            "| Karan|         HR| 53000| 7950.0|\n",
            "|Naveen|Engineering| 70000|10500.0|\n",
            "|Fatima|  Marketing| 45000| 6750.0|\n",
            "+------+-----------+------+-------+\n",
            "\n"
          ]
        }
      ]
    },
    {
      "cell_type": "code",
      "source": [
        "#5\n",
        "df = df.withColumn(\"NetPay\", df[\"Salary\"] + df[\"Bonus\"])\n",
        "df.show()\n"
      ],
      "metadata": {
        "colab": {
          "base_uri": "https://localhost:8080/"
        },
        "id": "sHeJKcx1mf55",
        "outputId": "a094b0bc-46c5-46a9-d665-85261609937c"
      },
      "execution_count": 16,
      "outputs": [
        {
          "output_type": "stream",
          "name": "stdout",
          "text": [
            "+------+-----------+------+-------+-------+\n",
            "|  Name| Department|Salary|  Bonus| NetPay|\n",
            "+------+-----------+------+-------+-------+\n",
            "|Ananya|         HR| 52000| 7800.0|59800.0|\n",
            "| Rahul|Engineering| 65000| 9750.0|74750.0|\n",
            "| Priya|Engineering| 60000| 9000.0|69000.0|\n",
            "|  Zoya|  Marketing| 48000| 7200.0|55200.0|\n",
            "| Karan|         HR| 53000| 7950.0|60950.0|\n",
            "|Naveen|Engineering| 70000|10500.0|80500.0|\n",
            "|Fatima|  Marketing| 45000| 6750.0|51750.0|\n",
            "+------+-----------+------+-------+-------+\n",
            "\n"
          ]
        }
      ]
    },
    {
      "cell_type": "markdown",
      "source": [
        "#Set 3: Filtering and Conditions"
      ],
      "metadata": {
        "id": "e6tadwvsmqzy"
      }
    },
    {
      "cell_type": "code",
      "source": [
        "#6\n",
        "df.filter(df[\"Department\"] == \"Engineering\").show()\n"
      ],
      "metadata": {
        "colab": {
          "base_uri": "https://localhost:8080/"
        },
        "id": "593xHFxzmqCm",
        "outputId": "43f4bba5-fd04-4126-b34d-1f7ec1f1fa8c"
      },
      "execution_count": 17,
      "outputs": [
        {
          "output_type": "stream",
          "name": "stdout",
          "text": [
            "+------+-----------+------+-------+-------+\n",
            "|  Name| Department|Salary|  Bonus| NetPay|\n",
            "+------+-----------+------+-------+-------+\n",
            "| Rahul|Engineering| 65000| 9750.0|74750.0|\n",
            "| Priya|Engineering| 60000| 9000.0|69000.0|\n",
            "|Naveen|Engineering| 70000|10500.0|80500.0|\n",
            "+------+-----------+------+-------+-------+\n",
            "\n"
          ]
        }
      ]
    },
    {
      "cell_type": "code",
      "source": [
        "#7\n",
        "df.filter(df[\"Salary\"] > 60000).show()\n"
      ],
      "metadata": {
        "colab": {
          "base_uri": "https://localhost:8080/"
        },
        "id": "FKCJxNI-m9Mg",
        "outputId": "a59a7f2b-7705-40d4-caca-5c5bdccd3563"
      },
      "execution_count": 18,
      "outputs": [
        {
          "output_type": "stream",
          "name": "stdout",
          "text": [
            "+------+-----------+------+-------+-------+\n",
            "|  Name| Department|Salary|  Bonus| NetPay|\n",
            "+------+-----------+------+-------+-------+\n",
            "| Rahul|Engineering| 65000| 9750.0|74750.0|\n",
            "|Naveen|Engineering| 70000|10500.0|80500.0|\n",
            "+------+-----------+------+-------+-------+\n",
            "\n"
          ]
        }
      ]
    },
    {
      "cell_type": "code",
      "source": [
        "#8\n",
        "df.filter(df[\"Department\"] != \"Marketing\").show()\n"
      ],
      "metadata": {
        "colab": {
          "base_uri": "https://localhost:8080/"
        },
        "id": "arKw2sC0nRAJ",
        "outputId": "ff82e57f-48cb-4e05-fd48-329f4cc6657b"
      },
      "execution_count": 19,
      "outputs": [
        {
          "output_type": "stream",
          "name": "stdout",
          "text": [
            "+------+-----------+------+-------+-------+\n",
            "|  Name| Department|Salary|  Bonus| NetPay|\n",
            "+------+-----------+------+-------+-------+\n",
            "|Ananya|         HR| 52000| 7800.0|59800.0|\n",
            "| Rahul|Engineering| 65000| 9750.0|74750.0|\n",
            "| Priya|Engineering| 60000| 9000.0|69000.0|\n",
            "| Karan|         HR| 53000| 7950.0|60950.0|\n",
            "|Naveen|Engineering| 70000|10500.0|80500.0|\n",
            "+------+-----------+------+-------+-------+\n",
            "\n"
          ]
        }
      ]
    },
    {
      "cell_type": "markdown",
      "source": [
        "#Set 4: Sorting and Limiting"
      ],
      "metadata": {
        "id": "qPvATrxInafw"
      }
    },
    {
      "cell_type": "code",
      "source": [
        "#9\n",
        "df.orderBy(df[\"Salary\"].desc()).show(3)\n"
      ],
      "metadata": {
        "colab": {
          "base_uri": "https://localhost:8080/"
        },
        "id": "T_uf9nGhnaKS",
        "outputId": "99359431-2187-4aac-e4dc-7de02ef2b614"
      },
      "execution_count": 20,
      "outputs": [
        {
          "output_type": "stream",
          "name": "stdout",
          "text": [
            "+------+-----------+------+-------+-------+\n",
            "|  Name| Department|Salary|  Bonus| NetPay|\n",
            "+------+-----------+------+-------+-------+\n",
            "|Naveen|Engineering| 70000|10500.0|80500.0|\n",
            "| Rahul|Engineering| 65000| 9750.0|74750.0|\n",
            "| Priya|Engineering| 60000| 9000.0|69000.0|\n",
            "+------+-----------+------+-------+-------+\n",
            "only showing top 3 rows\n",
            "\n"
          ]
        }
      ]
    },
    {
      "cell_type": "code",
      "source": [
        "#10\n",
        "df.orderBy(df[\"Department\"].asc(), df[\"Salary\"].desc()).show()\n"
      ],
      "metadata": {
        "colab": {
          "base_uri": "https://localhost:8080/"
        },
        "id": "cxaGaez_nkaT",
        "outputId": "74220716-8e5e-4772-ef1a-9ec1331f1984"
      },
      "execution_count": 22,
      "outputs": [
        {
          "output_type": "stream",
          "name": "stdout",
          "text": [
            "+------+-----------+------+-------+-------+\n",
            "|  Name| Department|Salary|  Bonus| NetPay|\n",
            "+------+-----------+------+-------+-------+\n",
            "|Naveen|Engineering| 70000|10500.0|80500.0|\n",
            "| Rahul|Engineering| 65000| 9750.0|74750.0|\n",
            "| Priya|Engineering| 60000| 9000.0|69000.0|\n",
            "| Karan|         HR| 53000| 7950.0|60950.0|\n",
            "|Ananya|         HR| 52000| 7800.0|59800.0|\n",
            "|  Zoya|  Marketing| 48000| 7200.0|55200.0|\n",
            "|Fatima|  Marketing| 45000| 6750.0|51750.0|\n",
            "+------+-----------+------+-------+-------+\n",
            "\n"
          ]
        }
      ]
    },
    {
      "cell_type": "markdown",
      "source": [
        "#Set 5: String and Case Logic"
      ],
      "metadata": {
        "id": "6f-s6bhtnv8A"
      }
    },
    {
      "cell_type": "code",
      "source": [
        "\n",
        "from pyspark.sql.functions import when\n",
        "\n",
        "df = df.withColumn(\"Level\", when(df[\"Salary\"] > 60000, \"Senior\")\n",
        "                   .when((df[\"Salary\"] >= 50000) & (df[\"Salary\"] <= 60000), \"Mid\")\n",
        "                   .otherwise(\"Junior\"))\n",
        "df.show()\n"
      ],
      "metadata": {
        "colab": {
          "base_uri": "https://localhost:8080/"
        },
        "id": "X-5aYQMSnxKi",
        "outputId": "49502e0b-4e42-4c3e-8160-c69499a5dae6"
      },
      "execution_count": 27,
      "outputs": [
        {
          "output_type": "stream",
          "name": "stdout",
          "text": [
            "+------+-----------+------+-------+-------+------+\n",
            "|  Name| Department|Salary|  Bonus| NetPay| Level|\n",
            "+------+-----------+------+-------+-------+------+\n",
            "|ANANYA|         HR| 52000| 7800.0|59800.0|   Mid|\n",
            "| RAHUL|Engineering| 65000| 9750.0|74750.0|Senior|\n",
            "| PRIYA|Engineering| 60000| 9000.0|69000.0|   Mid|\n",
            "|  ZOYA|  Marketing| 48000| 7200.0|55200.0|Junior|\n",
            "| KARAN|         HR| 53000| 7950.0|60950.0|   Mid|\n",
            "|NAVEEN|Engineering| 70000|10500.0|80500.0|Senior|\n",
            "|FATIMA|  Marketing| 45000| 6750.0|51750.0|Junior|\n",
            "+------+-----------+------+-------+-------+------+\n",
            "\n"
          ]
        }
      ]
    },
    {
      "cell_type": "code",
      "source": [
        "from pyspark.sql.functions import upper\n",
        "\n",
        "df = df.withColumn(\"Name\", upper(df[\"Name\"]))\n",
        "df.show()\n"
      ],
      "metadata": {
        "colab": {
          "base_uri": "https://localhost:8080/"
        },
        "id": "DbmvJy7FoY7G",
        "outputId": "ea5ad379-ad04-49b3-acc0-5ccc91a2f18d"
      },
      "execution_count": 26,
      "outputs": [
        {
          "output_type": "stream",
          "name": "stdout",
          "text": [
            "+------+-----------+------+-------+-------+------+\n",
            "|  Name| Department|Salary|  Bonus| NetPay| Level|\n",
            "+------+-----------+------+-------+-------+------+\n",
            "|ANANYA|         HR| 52000| 7800.0|59800.0|   Mid|\n",
            "| RAHUL|Engineering| 65000| 9750.0|74750.0|Senior|\n",
            "| PRIYA|Engineering| 60000| 9000.0|69000.0|   Mid|\n",
            "|  ZOYA|  Marketing| 48000| 7200.0|55200.0|Junior|\n",
            "| KARAN|         HR| 53000| 7950.0|60950.0|   Mid|\n",
            "|NAVEEN|Engineering| 70000|10500.0|80500.0|Senior|\n",
            "|FATIMA|  Marketing| 45000| 6750.0|51750.0|Junior|\n",
            "+------+-----------+------+-------+-------+------+\n",
            "\n"
          ]
        }
      ]
    }
  ]
}