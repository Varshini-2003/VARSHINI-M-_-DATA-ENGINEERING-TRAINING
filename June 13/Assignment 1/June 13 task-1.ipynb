{
 "cells": [
  {
   "cell_type": "code",
   "execution_count": 0,
   "metadata": {
    "application/vnd.databricks.v1+cell": {
     "cellMetadata": {
      "byteLimit": 2048000,
      "rowLimit": 10000
     },
     "inputWidgets": {},
     "nuid": "f7a9e3b5-a65a-45ad-92fa-a25d2a2bc56b",
     "showTitle": false,
     "tableResultSettingsMap": {},
     "title": ""
    }
   },
   "outputs": [
    {
     "output_type": "execute_result",
     "data": {
      "text/html": [
       "\n",
       "            <div>\n",
       "                <p><b>SparkSession - hive</b></p>\n",
       "                \n",
       "        <div>\n",
       "            <p><b>SparkContext</b></p>\n",
       "\n",
       "            <p><a href=\"/?o=4411006885396230#setting/sparkui/0611-043414-4p180ssa/driver-4869161978024226364\">Spark UI</a></p>\n",
       "\n",
       "            <dl>\n",
       "              <dt>Version</dt>\n",
       "                <dd><code>v3.5.0</code></dd>\n",
       "              <dt>Master</dt>\n",
       "                <dd><code>local[*, 4]</code></dd>\n",
       "              <dt>AppName</dt>\n",
       "                <dd><code>Databricks Shell</code></dd>\n",
       "            </dl>\n",
       "        </div>\n",
       "        \n",
       "            </div>\n",
       "        "
      ],
      "text/plain": [
       "<pyspark.sql.session.SparkSession at 0x7b0194225c90>"
      ]
     },
     "execution_count": 2,
     "metadata": {},
     "output_type": "execute_result"
    }
   ],
   "source": [
    "spark"
   ]
  },
  {
   "cell_type": "code",
   "execution_count": 0,
   "metadata": {
    "application/vnd.databricks.v1+cell": {
     "cellMetadata": {
      "byteLimit": 2048000,
      "rowLimit": 10000
     },
     "inputWidgets": {},
     "nuid": "9544fa55-b112-40da-b34a-f88891ef1d12",
     "showTitle": false,
     "tableResultSettingsMap": {},
     "title": ""
    }
   },
   "outputs": [],
   "source": [
    "from pyspark.sql import SparkSession\n",
    "from pyspark.sql.functions import col, count, avg, sum\n"
   ]
  },
  {
   "cell_type": "code",
   "execution_count": 0,
   "metadata": {
    "application/vnd.databricks.v1+cell": {
     "cellMetadata": {
      "byteLimit": 2048000,
      "rowLimit": 10000
     },
     "inputWidgets": {},
     "nuid": "1f1934f3-0af5-4309-aeae-00f5bd68fa94",
     "showTitle": false,
     "tableResultSettingsMap": {},
     "title": ""
    }
   },
   "outputs": [],
   "source": [
    "#1. Ingest the CSV files into two PySpark DataFrames\n",
    "# Load customers.csv from /Shared/\n",
    "\n",
    "df_customers=spark.read.option(\"header\",True).option(\"inferSchema\",True)\\\n",
    "    .csv(\"file:/Workspace/Shared/customers.csv\")\n",
    "# Load orders.csv from /Shared/\n",
    "df_orders = spark.read.option(\"header\",True).option(\"inferSchema\",True)\\\n",
    "    .csv(\"file:/Workspace/Shared/orders.csv\")\n"
   ]
  },
  {
   "cell_type": "code",
   "execution_count": 0,
   "metadata": {
    "application/vnd.databricks.v1+cell": {
     "cellMetadata": {
      "byteLimit": 2048000,
      "rowLimit": 10000
     },
     "inputWidgets": {},
     "nuid": "7d4f4c0c-1881-479d-a206-4c75831fb3ad",
     "showTitle": false,
     "tableResultSettingsMap": {},
     "title": ""
    }
   },
   "outputs": [
    {
     "output_type": "stream",
     "name": "stdout",
     "output_type": "stream",
     "text": [
      "root\n |-- CustomerID: integer (nullable = true)\n |-- Name: string (nullable = true)\n |-- City: string (nullable = true)\n |-- Age: integer (nullable = true)\n\nroot\n |-- OrderID: integer (nullable = true)\n |-- CustomerID: integer (nullable = true)\n |-- Product: string (nullable = true)\n |-- Quantity: integer (nullable = true)\n |-- Price: integer (nullable = true)\n |-- OrderDate: date (nullable = true)\n\n"
     ]
    }
   ],
   "source": [
    "#2. Infer schema and print the schema for both\n",
    "# Print schema of customers DataFrame\n",
    "df_customers.printSchema()\n",
    "\n",
    "# Print schema of orders DataFrame\n",
    "df_orders.printSchema()\n"
   ]
  },
  {
   "cell_type": "code",
   "execution_count": 0,
   "metadata": {
    "application/vnd.databricks.v1+cell": {
     "cellMetadata": {
      "byteLimit": 2048000,
      "rowLimit": 10000
     },
     "inputWidgets": {},
     "nuid": "e83a7f86-5244-4d51-a1f5-04abfda8abfb",
     "showTitle": false,
     "tableResultSettingsMap": {},
     "title": ""
    }
   },
   "outputs": [
    {
     "output_type": "stream",
     "name": "stdout",
     "output_type": "stream",
     "text": [
      "+-------+----------+-------+--------+-----+----------+-----------+\n|OrderID|CustomerID|Product|Quantity|Price| OrderDate|TotalAmount|\n+-------+----------+-------+--------+-----+----------+-----------+\n|   1001|       101| Laptop|       1|70000|2024-01-05|      70000|\n|   1002|       102| Mobile|       2|25000|2024-02-10|      50000|\n|   1003|       103|   Desk|       1|10000|2024-03-15|      10000|\n|   1004|       101|  Mouse|       3| 1000|2024-04-01|       3000|\n|   1005|       104|Monitor|       1|12000|2024-04-25|      12000|\n+-------+----------+-------+--------+-----+----------+-----------+\n\n"
     ]
    }
   ],
   "source": [
    "# 3. Add a column TotalAmount = Quantity * Price to orders\n",
    "# Add TotalAmount column to orders\n",
    "df_orders = df_orders.withColumn(\"TotalAmount\", col(\"Quantity\") * col(\"Price\"))\n",
    "\n",
    "# Display updated orders\n",
    "df_orders.show()\n"
   ]
  },
  {
   "cell_type": "code",
   "execution_count": 0,
   "metadata": {
    "application/vnd.databricks.v1+cell": {
     "cellMetadata": {
      "byteLimit": 2048000,
      "rowLimit": 10000
     },
     "inputWidgets": {},
     "nuid": "8049fef1-aaa3-4b9f-a72e-9b08ba85a8dc",
     "showTitle": false,
     "tableResultSettingsMap": {},
     "title": ""
    }
   },
   "outputs": [
    {
     "output_type": "stream",
     "name": "stdout",
     "output_type": "stream",
     "text": [
      "+----------+-------+-------+--------+-----+----------+-----------+-----+---------+---+\n|CustomerID|OrderID|Product|Quantity|Price| OrderDate|TotalAmount| Name|     City|Age|\n+----------+-------+-------+--------+-----+----------+-----------+-----+---------+---+\n|       101|   1001| Laptop|       1|70000|2024-01-05|      70000|Aditi|   Mumbai| 28|\n|       102|   1002| Mobile|       2|25000|2024-02-10|      50000|Rohan|    Delhi| 35|\n|       103|   1003|   Desk|       1|10000|2024-03-15|      10000|Meena|Bangalore| 41|\n|       101|   1004|  Mouse|       3| 1000|2024-04-01|       3000|Aditi|   Mumbai| 28|\n|       104|   1005|Monitor|       1|12000|2024-04-25|      12000|Kabir|Hyderabad| 30|\n+----------+-------+-------+--------+-----+----------+-----------+-----+---------+---+\n\n"
     ]
    }
   ],
   "source": [
    "# 4. Join both DataFrames on CustomerID\n",
    "# Join customers and orders on CustomerID\n",
    "df_joined = df_orders.join(df_customers, on=\"CustomerID\", how=\"inner\")\n",
    "\n",
    "# Display the joined result\n",
    "df_joined.show()\n"
   ]
  },
  {
   "cell_type": "code",
   "execution_count": 0,
   "metadata": {
    "application/vnd.databricks.v1+cell": {
     "cellMetadata": {
      "byteLimit": 2048000,
      "rowLimit": 10000
     },
     "inputWidgets": {},
     "nuid": "54afb4b3-9188-4cc1-b1b9-7f6b2f3c4777",
     "showTitle": false,
     "tableResultSettingsMap": {},
     "title": ""
    }
   },
   "outputs": [
    {
     "output_type": "stream",
     "name": "stdout",
     "output_type": "stream",
     "text": [
      "+----------+-------+-------+--------+-----+----------+-----------+-----+------+---+\n|CustomerID|OrderID|Product|Quantity|Price| OrderDate|TotalAmount| Name|  City|Age|\n+----------+-------+-------+--------+-----+----------+-----------+-----+------+---+\n|       101|   1001| Laptop|       1|70000|2024-01-05|      70000|Aditi|Mumbai| 28|\n|       102|   1002| Mobile|       2|25000|2024-02-10|      50000|Rohan| Delhi| 35|\n+----------+-------+-------+--------+-----+----------+-----------+-----+------+---+\n\n"
     ]
    }
   ],
   "source": [
    "#5. Filter orders where TotalAmount > 20000\n",
    "# Filter orders with TotalAmount > 20000\n",
    "df_high_value = df_joined.filter(col(\"TotalAmount\") > 20000)\n",
    "\n",
    "# Show the result\n",
    "df_high_value.show()\n"
   ]
  },
  {
   "cell_type": "code",
   "execution_count": 0,
   "metadata": {
    "application/vnd.databricks.v1+cell": {
     "cellMetadata": {
      "byteLimit": 2048000,
      "rowLimit": 10000
     },
     "inputWidgets": {},
     "nuid": "3c30f1ed-918f-40f6-9c56-1245d5d0d10d",
     "showTitle": false,
     "tableResultSettingsMap": {},
     "title": ""
    }
   },
   "outputs": [
    {
     "output_type": "stream",
     "name": "stdout",
     "output_type": "stream",
     "text": [
      "+----------+-----+----------+\n|CustomerID| Name|OrderCount|\n+----------+-----+----------+\n|       101|Aditi|         2|\n+----------+-----+----------+\n\n"
     ]
    }
   ],
   "source": [
    "# 6. Show customers who placed more than 1 order\n",
    "# Count orders per customer\n",
    "df_order_count = df_orders.groupBy(\"CustomerID\").agg(count(\"OrderID\").alias(\"OrderCount\"))\n",
    "\n",
    "# Filter those with more than 1 order\n",
    "df_multiple_orders = df_order_count.filter(col(\"OrderCount\") > 1)\n",
    "\n",
    "# Join with customer names for clarity\n",
    "df_multiple_orders = df_multiple_orders.join(df_customers, on=\"CustomerID\")\n",
    "\n",
    "# Show the result\n",
    "df_multiple_orders.select(\"CustomerID\", \"Name\", \"OrderCount\").show()\n"
   ]
  },
  {
   "cell_type": "code",
   "execution_count": 0,
   "metadata": {
    "application/vnd.databricks.v1+cell": {
     "cellMetadata": {
      "byteLimit": 2048000,
      "rowLimit": 10000
     },
     "inputWidgets": {},
     "nuid": "3dcf6ef5-a185-4b81-8d5c-b3c76607cdf7",
     "showTitle": false,
     "tableResultSettingsMap": {},
     "title": ""
    }
   },
   "outputs": [
    {
     "output_type": "stream",
     "name": "stdout",
     "output_type": "stream",
     "text": [
      "+---------+-----------------+\n|     City|AverageOrderValue|\n+---------+-----------------+\n|Bangalore|          10000.0|\n|   Mumbai|          36500.0|\n|    Delhi|          50000.0|\n|Hyderabad|          12000.0|\n+---------+-----------------+\n\n"
     ]
    }
   ],
   "source": [
    "#7. Group orders by City and get average order value\n",
    "# Group by City and compute average TotalAmount\n",
    "df_avg_order = df_joined.groupBy(\"City\").agg(avg(\"TotalAmount\").alias(\"AverageOrderValue\"))\n",
    "\n",
    "# Show the result\n",
    "df_avg_order.show()\n"
   ]
  },
  {
   "cell_type": "code",
   "execution_count": 0,
   "metadata": {
    "application/vnd.databricks.v1+cell": {
     "cellMetadata": {
      "byteLimit": 2048000,
      "rowLimit": 10000
     },
     "inputWidgets": {},
     "nuid": "f152c17f-d30b-4a79-9295-86dcf78ae4a1",
     "showTitle": false,
     "tableResultSettingsMap": {},
     "title": ""
    }
   },
   "outputs": [
    {
     "output_type": "stream",
     "name": "stdout",
     "output_type": "stream",
     "text": [
      "+----------+-------+-------+--------+-----+----------+-----------+-----+---------+---+\n|CustomerID|OrderID|Product|Quantity|Price| OrderDate|TotalAmount| Name|     City|Age|\n+----------+-------+-------+--------+-----+----------+-----------+-----+---------+---+\n|       104|   1005|Monitor|       1|12000|2024-04-25|      12000|Kabir|Hyderabad| 30|\n|       101|   1004|  Mouse|       3| 1000|2024-04-01|       3000|Aditi|   Mumbai| 28|\n|       103|   1003|   Desk|       1|10000|2024-03-15|      10000|Meena|Bangalore| 41|\n|       102|   1002| Mobile|       2|25000|2024-02-10|      50000|Rohan|    Delhi| 35|\n|       101|   1001| Laptop|       1|70000|2024-01-05|      70000|Aditi|   Mumbai| 28|\n+----------+-------+-------+--------+-----+----------+-----------+-----+---------+---+\n\n"
     ]
    }
   ],
   "source": [
    "# 8. Sort orders by OrderDate in descending order\n",
    "\n",
    "# Sort orders by OrderDate (latest first)\n",
    "df_sorted_orders = df_joined.orderBy(col(\"OrderDate\").desc())\n",
    "\n",
    "# Show sorted orders\n",
    "df_sorted_orders.show()\n"
   ]
  },
  {
   "cell_type": "code",
   "execution_count": 0,
   "metadata": {
    "application/vnd.databricks.v1+cell": {
     "cellMetadata": {
      "byteLimit": 2048000,
      "rowLimit": 10000
     },
     "inputWidgets": {},
     "nuid": "a99b84de-b2f5-4db3-91b0-f9bbea0a59e8",
     "showTitle": false,
     "tableResultSettingsMap": {},
     "title": ""
    }
   },
   "outputs": [],
   "source": [
    "#9. Write the final result as a Parquet file partitioned by City\n",
    "# Save the DataFrame as a Parquet file, partitioned by City\n",
    "df_joined.write.mode(\"overwrite\").partitionBy(\"City\").parquet(\"/Shared/output/orders_parquet\")\n"
   ]
  },
  {
   "cell_type": "code",
   "execution_count": 0,
   "metadata": {
    "application/vnd.databricks.v1+cell": {
     "cellMetadata": {
      "byteLimit": 2048000,
      "rowLimit": 10000
     },
     "inputWidgets": {},
     "nuid": "1b6f5d13-de11-47b2-a061-c9c90df30b3d",
     "showTitle": false,
     "tableResultSettingsMap": {},
     "title": ""
    }
   },
   "outputs": [],
   "source": [
    "#10. Create a temporary view and run Spark SQL\n",
    "# Create a temporary view\n",
    "df_joined.createOrReplaceTempView(\"orders_view\")\n",
    "\n"
   ]
  },
  {
   "cell_type": "code",
   "execution_count": 0,
   "metadata": {
    "application/vnd.databricks.v1+cell": {
     "cellMetadata": {
      "byteLimit": 2048000,
      "implicitDf": true,
      "rowLimit": 10000
     },
     "inputWidgets": {},
     "nuid": "75d5f2ed-ad49-4736-9c09-6df008571d19",
     "showTitle": false,
     "tableResultSettingsMap": {},
     "title": ""
    }
   },
   "outputs": [
    {
     "output_type": "display_data",
     "data": {
      "text/html": [
       "<style scoped>\n",
       "  .table-result-container {\n",
       "    max-height: 300px;\n",
       "    overflow: auto;\n",
       "  }\n",
       "  table, th, td {\n",
       "    border: 1px solid black;\n",
       "    border-collapse: collapse;\n",
       "  }\n",
       "  th, td {\n",
       "    padding: 5px;\n",
       "  }\n",
       "  th {\n",
       "    text-align: left;\n",
       "  }\n",
       "</style><div class='table-result-container'><table class='table-result'><thead style='background-color: white'><tr><th>City</th><th>Revenue</th></tr></thead><tbody><tr><td>Mumbai</td><td>73000</td></tr><tr><td>Delhi</td><td>50000</td></tr></tbody></table></div>"
      ]
     },
     "metadata": {
      "application/vnd.databricks.v1+output": {
       "addedWidgets": {},
       "aggData": [],
       "aggError": "",
       "aggOverflow": false,
       "aggSchema": [],
       "aggSeriesLimitReached": false,
       "aggType": "",
       "arguments": {},
       "columnCustomDisplayInfos": {},
       "data": [
        [
         "Mumbai",
         73000
        ],
        [
         "Delhi",
         50000
        ]
       ],
       "datasetInfos": [],
       "dbfsResultPath": null,
       "isJsonSchema": true,
       "metadata": {
        "createTempViewForImplicitDf": true,
        "dataframeName": "_sqldf",
        "executionCount": 19
       },
       "overflow": false,
       "plotOptions": {
        "customPlotOptions": {},
        "displayType": "table",
        "pivotAggregation": null,
        "pivotColumns": null,
        "xColumns": null,
        "yColumns": null
       },
       "removedWidgets": [],
       "schema": [
        {
         "metadata": "{}",
         "name": "City",
         "type": "\"string\""
        },
        {
         "metadata": "{}",
         "name": "Revenue",
         "type": "\"long\""
        }
       ],
       "type": "table"
      }
     },
     "output_type": "display_data"
    }
   ],
   "source": [
    "%sql\n",
    "-- a) Total sales by customer\n",
    "SELECT Name, SUM(TotalAmount) AS TotalSales\n",
    "FROM orders_view\n",
    "GROUP BY Name;\n",
    "\n",
    "-- b) Count of products per city\n",
    "SELECT City, COUNT(Product) AS ProductCount\n",
    "FROM orders_view\n",
    "GROUP BY City;\n",
    "\n",
    "-- c) Top 2 cities by revenue\n",
    "SELECT City, SUM(TotalAmount) AS Revenue\n",
    "FROM orders_view\n",
    "GROUP BY City\n",
    "ORDER BY Revenue DESC\n",
    "LIMIT 2;\n"
   ]
  }
 ],
 "metadata": {
  "application/vnd.databricks.v1+notebook": {
   "computePreferences": null,
   "dashboards": [],
   "environmentMetadata": {
    "base_environment": "",
    "environment_version": "2"
   },
   "inputWidgetPreferences": null,
   "language": "python",
   "notebookMetadata": {
    "mostRecentlyExecutedCommandWithImplicitDF": {
     "commandId": 7541168391627619,
     "dataframes": [
      "_sqldf"
     ]
    },
    "pythonIndentUnit": 4
   },
   "notebookName": "June 13 task-1",
   "widgets": {}
  },
  "language_info": {
   "name": "python"
  }
 },
 "nbformat": 4,
 "nbformat_minor": 0
}