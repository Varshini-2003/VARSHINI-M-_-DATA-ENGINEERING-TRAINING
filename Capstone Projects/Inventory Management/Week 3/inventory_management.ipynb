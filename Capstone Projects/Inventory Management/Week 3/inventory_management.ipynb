{
  "nbformat": 4,
  "nbformat_minor": 0,
  "metadata": {
    "colab": {
      "provenance": []
    },
    "kernelspec": {
      "name": "python3",
      "display_name": "Python 3"
    },
    "language_info": {
      "name": "python"
    }
  },
  "cells": [
    {
      "cell_type": "code",
      "execution_count": 1,
      "metadata": {
        "colab": {
          "base_uri": "https://localhost:8080/",
          "height": 73
        },
        "id": "XU_kxSqYjjQO",
        "outputId": "10f683c2-28b0-41e5-ceb2-b2cd30d8a360"
      },
      "outputs": [
        {
          "output_type": "display_data",
          "data": {
            "text/plain": [
              "<IPython.core.display.HTML object>"
            ],
            "text/html": [
              "\n",
              "     <input type=\"file\" id=\"files-f1f19b64-efb7-41a1-9066-ee7c0adfcd99\" name=\"files[]\" multiple disabled\n",
              "        style=\"border:none\" />\n",
              "     <output id=\"result-f1f19b64-efb7-41a1-9066-ee7c0adfcd99\">\n",
              "      Upload widget is only available when the cell has been executed in the\n",
              "      current browser session. Please rerun this cell to enable.\n",
              "      </output>\n",
              "      <script>// Copyright 2017 Google LLC\n",
              "//\n",
              "// Licensed under the Apache License, Version 2.0 (the \"License\");\n",
              "// you may not use this file except in compliance with the License.\n",
              "// You may obtain a copy of the License at\n",
              "//\n",
              "//      http://www.apache.org/licenses/LICENSE-2.0\n",
              "//\n",
              "// Unless required by applicable law or agreed to in writing, software\n",
              "// distributed under the License is distributed on an \"AS IS\" BASIS,\n",
              "// WITHOUT WARRANTIES OR CONDITIONS OF ANY KIND, either express or implied.\n",
              "// See the License for the specific language governing permissions and\n",
              "// limitations under the License.\n",
              "\n",
              "/**\n",
              " * @fileoverview Helpers for google.colab Python module.\n",
              " */\n",
              "(function(scope) {\n",
              "function span(text, styleAttributes = {}) {\n",
              "  const element = document.createElement('span');\n",
              "  element.textContent = text;\n",
              "  for (const key of Object.keys(styleAttributes)) {\n",
              "    element.style[key] = styleAttributes[key];\n",
              "  }\n",
              "  return element;\n",
              "}\n",
              "\n",
              "// Max number of bytes which will be uploaded at a time.\n",
              "const MAX_PAYLOAD_SIZE = 100 * 1024;\n",
              "\n",
              "function _uploadFiles(inputId, outputId) {\n",
              "  const steps = uploadFilesStep(inputId, outputId);\n",
              "  const outputElement = document.getElementById(outputId);\n",
              "  // Cache steps on the outputElement to make it available for the next call\n",
              "  // to uploadFilesContinue from Python.\n",
              "  outputElement.steps = steps;\n",
              "\n",
              "  return _uploadFilesContinue(outputId);\n",
              "}\n",
              "\n",
              "// This is roughly an async generator (not supported in the browser yet),\n",
              "// where there are multiple asynchronous steps and the Python side is going\n",
              "// to poll for completion of each step.\n",
              "// This uses a Promise to block the python side on completion of each step,\n",
              "// then passes the result of the previous step as the input to the next step.\n",
              "function _uploadFilesContinue(outputId) {\n",
              "  const outputElement = document.getElementById(outputId);\n",
              "  const steps = outputElement.steps;\n",
              "\n",
              "  const next = steps.next(outputElement.lastPromiseValue);\n",
              "  return Promise.resolve(next.value.promise).then((value) => {\n",
              "    // Cache the last promise value to make it available to the next\n",
              "    // step of the generator.\n",
              "    outputElement.lastPromiseValue = value;\n",
              "    return next.value.response;\n",
              "  });\n",
              "}\n",
              "\n",
              "/**\n",
              " * Generator function which is called between each async step of the upload\n",
              " * process.\n",
              " * @param {string} inputId Element ID of the input file picker element.\n",
              " * @param {string} outputId Element ID of the output display.\n",
              " * @return {!Iterable<!Object>} Iterable of next steps.\n",
              " */\n",
              "function* uploadFilesStep(inputId, outputId) {\n",
              "  const inputElement = document.getElementById(inputId);\n",
              "  inputElement.disabled = false;\n",
              "\n",
              "  const outputElement = document.getElementById(outputId);\n",
              "  outputElement.innerHTML = '';\n",
              "\n",
              "  const pickedPromise = new Promise((resolve) => {\n",
              "    inputElement.addEventListener('change', (e) => {\n",
              "      resolve(e.target.files);\n",
              "    });\n",
              "  });\n",
              "\n",
              "  const cancel = document.createElement('button');\n",
              "  inputElement.parentElement.appendChild(cancel);\n",
              "  cancel.textContent = 'Cancel upload';\n",
              "  const cancelPromise = new Promise((resolve) => {\n",
              "    cancel.onclick = () => {\n",
              "      resolve(null);\n",
              "    };\n",
              "  });\n",
              "\n",
              "  // Wait for the user to pick the files.\n",
              "  const files = yield {\n",
              "    promise: Promise.race([pickedPromise, cancelPromise]),\n",
              "    response: {\n",
              "      action: 'starting',\n",
              "    }\n",
              "  };\n",
              "\n",
              "  cancel.remove();\n",
              "\n",
              "  // Disable the input element since further picks are not allowed.\n",
              "  inputElement.disabled = true;\n",
              "\n",
              "  if (!files) {\n",
              "    return {\n",
              "      response: {\n",
              "        action: 'complete',\n",
              "      }\n",
              "    };\n",
              "  }\n",
              "\n",
              "  for (const file of files) {\n",
              "    const li = document.createElement('li');\n",
              "    li.append(span(file.name, {fontWeight: 'bold'}));\n",
              "    li.append(span(\n",
              "        `(${file.type || 'n/a'}) - ${file.size} bytes, ` +\n",
              "        `last modified: ${\n",
              "            file.lastModifiedDate ? file.lastModifiedDate.toLocaleDateString() :\n",
              "                                    'n/a'} - `));\n",
              "    const percent = span('0% done');\n",
              "    li.appendChild(percent);\n",
              "\n",
              "    outputElement.appendChild(li);\n",
              "\n",
              "    const fileDataPromise = new Promise((resolve) => {\n",
              "      const reader = new FileReader();\n",
              "      reader.onload = (e) => {\n",
              "        resolve(e.target.result);\n",
              "      };\n",
              "      reader.readAsArrayBuffer(file);\n",
              "    });\n",
              "    // Wait for the data to be ready.\n",
              "    let fileData = yield {\n",
              "      promise: fileDataPromise,\n",
              "      response: {\n",
              "        action: 'continue',\n",
              "      }\n",
              "    };\n",
              "\n",
              "    // Use a chunked sending to avoid message size limits. See b/62115660.\n",
              "    let position = 0;\n",
              "    do {\n",
              "      const length = Math.min(fileData.byteLength - position, MAX_PAYLOAD_SIZE);\n",
              "      const chunk = new Uint8Array(fileData, position, length);\n",
              "      position += length;\n",
              "\n",
              "      const base64 = btoa(String.fromCharCode.apply(null, chunk));\n",
              "      yield {\n",
              "        response: {\n",
              "          action: 'append',\n",
              "          file: file.name,\n",
              "          data: base64,\n",
              "        },\n",
              "      };\n",
              "\n",
              "      let percentDone = fileData.byteLength === 0 ?\n",
              "          100 :\n",
              "          Math.round((position / fileData.byteLength) * 100);\n",
              "      percent.textContent = `${percentDone}% done`;\n",
              "\n",
              "    } while (position < fileData.byteLength);\n",
              "  }\n",
              "\n",
              "  // All done.\n",
              "  yield {\n",
              "    response: {\n",
              "      action: 'complete',\n",
              "    }\n",
              "  };\n",
              "}\n",
              "\n",
              "scope.google = scope.google || {};\n",
              "scope.google.colab = scope.google.colab || {};\n",
              "scope.google.colab._files = {\n",
              "  _uploadFiles,\n",
              "  _uploadFilesContinue,\n",
              "};\n",
              "})(self);\n",
              "</script> "
            ]
          },
          "metadata": {}
        },
        {
          "output_type": "stream",
          "name": "stdout",
          "text": [
            "Saving stock_movements.csv to stock_movements.csv\n"
          ]
        }
      ],
      "source": [
        "from google.colab import files\n",
        "\n",
        "# This opens a file upload dialog in Colab\n",
        "uploaded = files.upload()"
      ]
    },
    {
      "cell_type": "code",
      "source": [
        "from pyspark.sql import SparkSession\n",
        "\n",
        "spark = SparkSession.builder \\\n",
        "    .appName(\"Inventory Stock Analysis\") \\\n",
        "    .getOrCreate()\n"
      ],
      "metadata": {
        "id": "cMBQzZDsjzrJ"
      },
      "execution_count": 2,
      "outputs": []
    },
    {
      "cell_type": "code",
      "source": [
        "df = spark.read.csv(\"stock_movements.csv\", header=True, inferSchema=True)\n",
        "df.show()\n"
      ],
      "metadata": {
        "colab": {
          "base_uri": "https://localhost:8080/"
        },
        "id": "lqHpG4PDj3oR",
        "outputId": "a9916429-32dd-48f5-d12e-38bc25fd514c"
      },
      "execution_count": 3,
      "outputs": [
        {
          "output_type": "stream",
          "name": "stdout",
          "text": [
            "+----------+------------+--------+-------------+-------------+\n",
            "|product_id|warehouse_id|quantity|movement_type|movement_date|\n",
            "+----------+------------+--------+-------------+-------------+\n",
            "|      P010|         W02|      77|           IN|   2024-09-11|\n",
            "|      P010|         W03|     318|           IN|   2025-04-01|\n",
            "|      P009|         W04|      83|           IN|   2024-11-10|\n",
            "|      P003|         W02|      87|           IN|   2025-05-15|\n",
            "|      P005|         W04|      58|           IN|   2025-04-06|\n",
            "|      P002|         W02|    -439|          OUT|   2025-02-05|\n",
            "|      P003|         W01|      37|           IN|   2024-12-31|\n",
            "|      P006|         W02|    -348|          OUT|   2025-05-02|\n",
            "|      P003|         W01|     107|           IN|   2024-07-16|\n",
            "|      P008|         W02|     172|           IN|   2024-12-29|\n",
            "|      P006|         W01|     355|           IN|   2025-02-28|\n",
            "|      P001|         W05|      98|           IN|   2025-03-24|\n",
            "|      P001|         W05|     405|           IN|   2025-05-07|\n",
            "|      P005|         W04|     274|           IN|   2024-10-24|\n",
            "|      P002|         W05|     172|           IN|   2025-02-15|\n",
            "|      P009|         W04|     283|           IN|   2024-10-02|\n",
            "|      P010|         W01|     292|           IN|   2024-10-29|\n",
            "|      P002|         W04|     292|           IN|   2024-09-12|\n",
            "|      P004|         W03|     302|           IN|   2024-09-02|\n",
            "|      P004|         W01|      52|           IN|   2025-01-28|\n",
            "+----------+------------+--------+-------------+-------------+\n",
            "only showing top 20 rows\n",
            "\n"
          ]
        }
      ]
    },
    {
      "cell_type": "code",
      "source": [
        "#Clean/Transform Data\n",
        "from pyspark.sql.functions import col\n",
        "\n",
        "df = df.withColumn(\"quantity\", col(\"quantity\").cast(\"int\"))\n",
        "df = df.na.drop()  # drop rows with null values\n"
      ],
      "metadata": {
        "id": "krYsXzVZkBnq"
      },
      "execution_count": 5,
      "outputs": []
    },
    {
      "cell_type": "markdown",
      "source": [
        "#Calculate Net Stock per Product per Warehouse"
      ],
      "metadata": {
        "id": "UUNP5cz3kPRe"
      }
    },
    {
      "cell_type": "code",
      "source": [
        "df_agg = df.groupBy(\"warehouse_id\", \"product_id\") \\\n",
        "           .sum(\"quantity\") \\\n",
        "           .withColumnRenamed(\"sum(quantity)\", \"total_quantity\")\n",
        "df_agg.show()\n"
      ],
      "metadata": {
        "colab": {
          "base_uri": "https://localhost:8080/"
        },
        "id": "8o4H0frlkIMF",
        "outputId": "9ffeac8c-ffc6-4fa6-d11e-526c632cce49"
      },
      "execution_count": 6,
      "outputs": [
        {
          "output_type": "stream",
          "name": "stdout",
          "text": [
            "+------------+----------+--------------+\n",
            "|warehouse_id|product_id|total_quantity|\n",
            "+------------+----------+--------------+\n",
            "|         W03|      P004|           102|\n",
            "|         W01|      P008|           124|\n",
            "|         W02|      P008|           172|\n",
            "|         W04|      P003|            29|\n",
            "|         W05|      P001|           246|\n",
            "|         W01|      P001|           -20|\n",
            "|         W03|      P010|           832|\n",
            "|         W01|      P004|           394|\n",
            "|         W02|      P001|          -371|\n",
            "|         W02|      P003|          -396|\n",
            "|         W02|      P002|          -295|\n",
            "|         W05|      P010|            68|\n",
            "|         W03|      P009|            85|\n",
            "|         W04|      P009|           366|\n",
            "|         W01|      P005|           135|\n",
            "|         W02|      P010|            77|\n",
            "|         W04|      P010|           613|\n",
            "|         W04|      P005|           389|\n",
            "|         W05|      P009|           449|\n",
            "|         W02|      P006|          -611|\n",
            "+------------+----------+--------------+\n",
            "only showing top 20 rows\n",
            "\n"
          ]
        }
      ]
    },
    {
      "cell_type": "markdown",
      "source": [
        "#Flag Overstocked / Understocked Items\n"
      ],
      "metadata": {
        "id": "zZ1JVW5skYEm"
      }
    },
    {
      "cell_type": "code",
      "source": [
        "from pyspark.sql.functions import when\n",
        "\n",
        "df_flagged = df_agg.withColumn(\"stock_status\",\n",
        "                when(col(\"total_quantity\") < 20, \"Understocked\")\n",
        "                .when(col(\"total_quantity\") > 1000, \"Overstocked\")\n",
        "                .otherwise(\"Normal\"))\n",
        "df_flagged.show()\n"
      ],
      "metadata": {
        "colab": {
          "base_uri": "https://localhost:8080/"
        },
        "id": "Oh94aSOmka7R",
        "outputId": "8b89611d-3976-4305-fb66-cc739525ebcf"
      },
      "execution_count": 7,
      "outputs": [
        {
          "output_type": "stream",
          "name": "stdout",
          "text": [
            "+------------+----------+--------------+------------+\n",
            "|warehouse_id|product_id|total_quantity|stock_status|\n",
            "+------------+----------+--------------+------------+\n",
            "|         W03|      P004|           102|      Normal|\n",
            "|         W01|      P008|           124|      Normal|\n",
            "|         W02|      P008|           172|      Normal|\n",
            "|         W04|      P003|            29|      Normal|\n",
            "|         W05|      P001|           246|      Normal|\n",
            "|         W01|      P001|           -20|Understocked|\n",
            "|         W03|      P010|           832|      Normal|\n",
            "|         W01|      P004|           394|      Normal|\n",
            "|         W02|      P001|          -371|Understocked|\n",
            "|         W02|      P003|          -396|Understocked|\n",
            "|         W02|      P002|          -295|Understocked|\n",
            "|         W05|      P010|            68|      Normal|\n",
            "|         W03|      P009|            85|      Normal|\n",
            "|         W04|      P009|           366|      Normal|\n",
            "|         W01|      P005|           135|      Normal|\n",
            "|         W02|      P010|            77|      Normal|\n",
            "|         W04|      P010|           613|      Normal|\n",
            "|         W04|      P005|           389|      Normal|\n",
            "|         W05|      P009|           449|      Normal|\n",
            "|         W02|      P006|          -611|Understocked|\n",
            "+------------+----------+--------------+------------+\n",
            "only showing top 20 rows\n",
            "\n"
          ]
        }
      ]
    },
    {
      "cell_type": "code",
      "source": [
        "# Save Output to CSV\n",
        "\n",
        "df_flagged.write.csv(\"warehouse_stock_status\", header=True, mode=\"overwrite\")\n"
      ],
      "metadata": {
        "id": "eqnS7g1lkjEH"
      },
      "execution_count": 8,
      "outputs": []
    }
  ]
}