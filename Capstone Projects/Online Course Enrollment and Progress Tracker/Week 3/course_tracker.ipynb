{
  "nbformat": 4,
  "nbformat_minor": 0,
  "metadata": {
    "colab": {
      "provenance": []
    },
    "kernelspec": {
      "name": "python3",
      "display_name": "Python 3"
    },
    "language_info": {
      "name": "python"
    }
  },
  "cells": [
    {
      "cell_type": "code",
      "source": [
        "from google.colab import files\n",
        "\n",
        "# This opens a file upload dialog in Colab\n",
        "uploaded = files.upload()"
      ],
      "metadata": {
        "colab": {
          "base_uri": "https://localhost:8080/",
          "height": 108
        },
        "id": "0cBM_I0GgzfO",
        "outputId": "fbd66ca2-78ce-46f4-83a1-e84672740d27"
      },
      "execution_count": 2,
      "outputs": [
        {
          "output_type": "display_data",
          "data": {
            "text/plain": [
              "<IPython.core.display.HTML object>"
            ],
            "text/html": [
              "\n",
              "     <input type=\"file\" id=\"files-a2c535a5-13e1-4eff-b6dd-a2d368672014\" name=\"files[]\" multiple disabled\n",
              "        style=\"border:none\" />\n",
              "     <output id=\"result-a2c535a5-13e1-4eff-b6dd-a2d368672014\">\n",
              "      Upload widget is only available when the cell has been executed in the\n",
              "      current browser session. Please rerun this cell to enable.\n",
              "      </output>\n",
              "      <script>// Copyright 2017 Google LLC\n",
              "//\n",
              "// Licensed under the Apache License, Version 2.0 (the \"License\");\n",
              "// you may not use this file except in compliance with the License.\n",
              "// You may obtain a copy of the License at\n",
              "//\n",
              "//      http://www.apache.org/licenses/LICENSE-2.0\n",
              "//\n",
              "// Unless required by applicable law or agreed to in writing, software\n",
              "// distributed under the License is distributed on an \"AS IS\" BASIS,\n",
              "// WITHOUT WARRANTIES OR CONDITIONS OF ANY KIND, either express or implied.\n",
              "// See the License for the specific language governing permissions and\n",
              "// limitations under the License.\n",
              "\n",
              "/**\n",
              " * @fileoverview Helpers for google.colab Python module.\n",
              " */\n",
              "(function(scope) {\n",
              "function span(text, styleAttributes = {}) {\n",
              "  const element = document.createElement('span');\n",
              "  element.textContent = text;\n",
              "  for (const key of Object.keys(styleAttributes)) {\n",
              "    element.style[key] = styleAttributes[key];\n",
              "  }\n",
              "  return element;\n",
              "}\n",
              "\n",
              "// Max number of bytes which will be uploaded at a time.\n",
              "const MAX_PAYLOAD_SIZE = 100 * 1024;\n",
              "\n",
              "function _uploadFiles(inputId, outputId) {\n",
              "  const steps = uploadFilesStep(inputId, outputId);\n",
              "  const outputElement = document.getElementById(outputId);\n",
              "  // Cache steps on the outputElement to make it available for the next call\n",
              "  // to uploadFilesContinue from Python.\n",
              "  outputElement.steps = steps;\n",
              "\n",
              "  return _uploadFilesContinue(outputId);\n",
              "}\n",
              "\n",
              "// This is roughly an async generator (not supported in the browser yet),\n",
              "// where there are multiple asynchronous steps and the Python side is going\n",
              "// to poll for completion of each step.\n",
              "// This uses a Promise to block the python side on completion of each step,\n",
              "// then passes the result of the previous step as the input to the next step.\n",
              "function _uploadFilesContinue(outputId) {\n",
              "  const outputElement = document.getElementById(outputId);\n",
              "  const steps = outputElement.steps;\n",
              "\n",
              "  const next = steps.next(outputElement.lastPromiseValue);\n",
              "  return Promise.resolve(next.value.promise).then((value) => {\n",
              "    // Cache the last promise value to make it available to the next\n",
              "    // step of the generator.\n",
              "    outputElement.lastPromiseValue = value;\n",
              "    return next.value.response;\n",
              "  });\n",
              "}\n",
              "\n",
              "/**\n",
              " * Generator function which is called between each async step of the upload\n",
              " * process.\n",
              " * @param {string} inputId Element ID of the input file picker element.\n",
              " * @param {string} outputId Element ID of the output display.\n",
              " * @return {!Iterable<!Object>} Iterable of next steps.\n",
              " */\n",
              "function* uploadFilesStep(inputId, outputId) {\n",
              "  const inputElement = document.getElementById(inputId);\n",
              "  inputElement.disabled = false;\n",
              "\n",
              "  const outputElement = document.getElementById(outputId);\n",
              "  outputElement.innerHTML = '';\n",
              "\n",
              "  const pickedPromise = new Promise((resolve) => {\n",
              "    inputElement.addEventListener('change', (e) => {\n",
              "      resolve(e.target.files);\n",
              "    });\n",
              "  });\n",
              "\n",
              "  const cancel = document.createElement('button');\n",
              "  inputElement.parentElement.appendChild(cancel);\n",
              "  cancel.textContent = 'Cancel upload';\n",
              "  const cancelPromise = new Promise((resolve) => {\n",
              "    cancel.onclick = () => {\n",
              "      resolve(null);\n",
              "    };\n",
              "  });\n",
              "\n",
              "  // Wait for the user to pick the files.\n",
              "  const files = yield {\n",
              "    promise: Promise.race([pickedPromise, cancelPromise]),\n",
              "    response: {\n",
              "      action: 'starting',\n",
              "    }\n",
              "  };\n",
              "\n",
              "  cancel.remove();\n",
              "\n",
              "  // Disable the input element since further picks are not allowed.\n",
              "  inputElement.disabled = true;\n",
              "\n",
              "  if (!files) {\n",
              "    return {\n",
              "      response: {\n",
              "        action: 'complete',\n",
              "      }\n",
              "    };\n",
              "  }\n",
              "\n",
              "  for (const file of files) {\n",
              "    const li = document.createElement('li');\n",
              "    li.append(span(file.name, {fontWeight: 'bold'}));\n",
              "    li.append(span(\n",
              "        `(${file.type || 'n/a'}) - ${file.size} bytes, ` +\n",
              "        `last modified: ${\n",
              "            file.lastModifiedDate ? file.lastModifiedDate.toLocaleDateString() :\n",
              "                                    'n/a'} - `));\n",
              "    const percent = span('0% done');\n",
              "    li.appendChild(percent);\n",
              "\n",
              "    outputElement.appendChild(li);\n",
              "\n",
              "    const fileDataPromise = new Promise((resolve) => {\n",
              "      const reader = new FileReader();\n",
              "      reader.onload = (e) => {\n",
              "        resolve(e.target.result);\n",
              "      };\n",
              "      reader.readAsArrayBuffer(file);\n",
              "    });\n",
              "    // Wait for the data to be ready.\n",
              "    let fileData = yield {\n",
              "      promise: fileDataPromise,\n",
              "      response: {\n",
              "        action: 'continue',\n",
              "      }\n",
              "    };\n",
              "\n",
              "    // Use a chunked sending to avoid message size limits. See b/62115660.\n",
              "    let position = 0;\n",
              "    do {\n",
              "      const length = Math.min(fileData.byteLength - position, MAX_PAYLOAD_SIZE);\n",
              "      const chunk = new Uint8Array(fileData, position, length);\n",
              "      position += length;\n",
              "\n",
              "      const base64 = btoa(String.fromCharCode.apply(null, chunk));\n",
              "      yield {\n",
              "        response: {\n",
              "          action: 'append',\n",
              "          file: file.name,\n",
              "          data: base64,\n",
              "        },\n",
              "      };\n",
              "\n",
              "      let percentDone = fileData.byteLength === 0 ?\n",
              "          100 :\n",
              "          Math.round((position / fileData.byteLength) * 100);\n",
              "      percent.textContent = `${percentDone}% done`;\n",
              "\n",
              "    } while (position < fileData.byteLength);\n",
              "  }\n",
              "\n",
              "  // All done.\n",
              "  yield {\n",
              "    response: {\n",
              "      action: 'complete',\n",
              "    }\n",
              "  };\n",
              "}\n",
              "\n",
              "scope.google = scope.google || {};\n",
              "scope.google.colab = scope.google.colab || {};\n",
              "scope.google.colab._files = {\n",
              "  _uploadFiles,\n",
              "  _uploadFilesContinue,\n",
              "};\n",
              "})(self);\n",
              "</script> "
            ]
          },
          "metadata": {}
        },
        {
          "output_type": "stream",
          "name": "stdout",
          "text": [
            "Saving progress.csv to progress.csv\n",
            "Saving enrollments.csv to enrollments.csv\n"
          ]
        }
      ]
    },
    {
      "cell_type": "markdown",
      "source": [
        "#Load the datasets using PySpark\n"
      ],
      "metadata": {
        "id": "jA86X9z_hk5K"
      }
    },
    {
      "cell_type": "code",
      "execution_count": 3,
      "metadata": {
        "colab": {
          "base_uri": "https://localhost:8080/"
        },
        "id": "hl3BjiJPglsk",
        "outputId": "582e381a-76bc-48a6-b170-db63fe534a0f"
      },
      "outputs": [
        {
          "output_type": "stream",
          "name": "stdout",
          "text": [
            "+----------+---------+---------------+\n",
            "|student_id|course_id|enrollment_date|\n",
            "+----------+---------+---------------+\n",
            "|      S008|     C002|     2024-04-28|\n",
            "|      S017|     C004|     2024-01-03|\n",
            "|      S009|     C005|     2024-04-07|\n",
            "|      S018|     C002|     2024-06-03|\n",
            "|      S002|     C001|     2024-03-28|\n",
            "+----------+---------+---------------+\n",
            "only showing top 5 rows\n",
            "\n",
            "+----------+---------+--------+\n",
            "|student_id|course_id|progress|\n",
            "+----------+---------+--------+\n",
            "|      S008|     C002|   13.36|\n",
            "|      S017|     C004|   64.28|\n",
            "|      S009|     C005|   20.01|\n",
            "|      S018|     C002|   72.63|\n",
            "|      S002|     C001|   64.31|\n",
            "+----------+---------+--------+\n",
            "only showing top 5 rows\n",
            "\n"
          ]
        }
      ],
      "source": [
        "from pyspark.sql import SparkSession\n",
        "\n",
        "spark = SparkSession.builder.appName(\"CourseAnalysis\").getOrCreate()\n",
        "\n",
        "# Load datasets\n",
        "df_enroll = spark.read.csv(\"enrollments.csv\", header=True, inferSchema=True)\n",
        "df_progress = spark.read.csv(\"progress.csv\", header=True, inferSchema=True)\n",
        "\n",
        "df_enroll.show(5)\n",
        "df_progress.show(5)\n"
      ]
    },
    {
      "cell_type": "markdown",
      "source": [
        "# Join the two DataFrames"
      ],
      "metadata": {
        "id": "3GBfTTD_htd4"
      }
    },
    {
      "cell_type": "code",
      "source": [
        "df_joined = df_enroll.join(df_progress, on=[\"student_id\", \"course_id\"], how=\"inner\")\n",
        "df_joined.show(5)\n"
      ],
      "metadata": {
        "colab": {
          "base_uri": "https://localhost:8080/"
        },
        "id": "EYl9_AFMhniI",
        "outputId": "a172561c-2484-4c8c-aca9-959651861312"
      },
      "execution_count": 4,
      "outputs": [
        {
          "output_type": "stream",
          "name": "stdout",
          "text": [
            "+----------+---------+---------------+--------+\n",
            "|student_id|course_id|enrollment_date|progress|\n",
            "+----------+---------+---------------+--------+\n",
            "|      S008|     C002|     2024-04-28|   70.36|\n",
            "|      S008|     C002|     2024-04-28|   13.36|\n",
            "|      S017|     C004|     2024-01-03|    56.8|\n",
            "|      S017|     C004|     2024-01-03|   64.28|\n",
            "|      S009|     C005|     2024-04-07|   20.01|\n",
            "+----------+---------+---------------+--------+\n",
            "only showing top 5 rows\n",
            "\n"
          ]
        }
      ]
    },
    {
      "cell_type": "markdown",
      "source": [
        "# Group by course and analyze"
      ],
      "metadata": {
        "id": "ya8qJHBSh142"
      }
    },
    {
      "cell_type": "code",
      "source": [
        "from pyspark.sql.functions import col, count, when\n",
        "\n",
        "df_summary = df_joined.groupBy(\"course_id\").agg(\n",
        "    count(\"student_id\").alias(\"Total_Enrolled\"),\n",
        "    count(when(col(\"progress\") >= 100, True)).alias(\"Total_Completed\"),\n",
        "    count(when(col(\"progress\") < 100, True)).alias(\"Total_Dropped\")\n",
        ")\n",
        "\n",
        "df_summary.show()\n"
      ],
      "metadata": {
        "colab": {
          "base_uri": "https://localhost:8080/"
        },
        "id": "Z4Wqzfxeh3Zm",
        "outputId": "7d1877a6-ac43-402e-f45d-2609c4d31eab"
      },
      "execution_count": 5,
      "outputs": [
        {
          "output_type": "stream",
          "name": "stdout",
          "text": [
            "+---------+--------------+---------------+-------------+\n",
            "|course_id|Total_Enrolled|Total_Completed|Total_Dropped|\n",
            "+---------+--------------+---------------+-------------+\n",
            "|     C003|            28|              0|           28|\n",
            "|     C004|             8|              0|            8|\n",
            "|     C005|             9|              0|            9|\n",
            "|     C001|            12|              0|           12|\n",
            "|     C002|            19|              0|           19|\n",
            "+---------+--------------+---------------+-------------+\n",
            "\n"
          ]
        }
      ]
    },
    {
      "cell_type": "markdown",
      "source": [
        "#Show Top Courses"
      ],
      "metadata": {
        "id": "iKSpyGJCh-U_"
      }
    },
    {
      "cell_type": "code",
      "source": [
        "# Top 5 completed\n",
        "df_summary.orderBy(col(\"Total_Completed\").desc()).show(5)\n",
        "\n",
        "# Top 5 dropped\n",
        "df_summary.orderBy(col(\"Total_Dropped\").desc()).show(5)\n"
      ],
      "metadata": {
        "colab": {
          "base_uri": "https://localhost:8080/"
        },
        "id": "2Jl9xtNQh6lJ",
        "outputId": "7d156d0a-130b-4642-e374-7bca59774272"
      },
      "execution_count": 6,
      "outputs": [
        {
          "output_type": "stream",
          "name": "stdout",
          "text": [
            "+---------+--------------+---------------+-------------+\n",
            "|course_id|Total_Enrolled|Total_Completed|Total_Dropped|\n",
            "+---------+--------------+---------------+-------------+\n",
            "|     C003|            28|              0|           28|\n",
            "|     C004|             8|              0|            8|\n",
            "|     C005|             9|              0|            9|\n",
            "|     C001|            12|              0|           12|\n",
            "|     C002|            19|              0|           19|\n",
            "+---------+--------------+---------------+-------------+\n",
            "\n",
            "+---------+--------------+---------------+-------------+\n",
            "|course_id|Total_Enrolled|Total_Completed|Total_Dropped|\n",
            "+---------+--------------+---------------+-------------+\n",
            "|     C003|            28|              0|           28|\n",
            "|     C002|            19|              0|           19|\n",
            "|     C001|            12|              0|           12|\n",
            "|     C005|             9|              0|            9|\n",
            "|     C004|             8|              0|            8|\n",
            "+---------+--------------+---------------+-------------+\n",
            "\n"
          ]
        }
      ]
    }
  ]
}