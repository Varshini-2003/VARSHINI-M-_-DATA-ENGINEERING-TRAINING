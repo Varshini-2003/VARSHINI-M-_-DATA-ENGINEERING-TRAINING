{
  "cells": [
    {
      "cell_type": "code",
      "execution_count": 1,
      "id": "923f24d4",
      "metadata": {
        "colab": {
          "base_uri": "https://localhost:8080/"
        },
        "id": "923f24d4",
        "outputId": "4567676f-2cf3-480c-b916-d21071a45dbb"
      },
      "outputs": [
        {
          "output_type": "stream",
          "name": "stdout",
          "text": [
            "+------+--------+-------------------+--------+-------+-------+\n",
            "|UserID|Page    |Timestamp          |Duration|Device |Country|\n",
            "+------+--------+-------------------+--------+-------+-------+\n",
            "|1     |Home    |2024-04-10 10:00:00|35      |Mobile |India  |\n",
            "|2     |Products|2024-04-10 10:02:00|120     |Desktop|USA    |\n",
            "|3     |Cart    |2024-04-10 10:05:00|45      |Tablet |UK     |\n",
            "|1     |Checkout|2024-04-10 10:08:00|60      |Mobile |India  |\n",
            "|4     |Home    |2024-04-10 10:10:00|15      |Mobile |Canada |\n",
            "|2     |Contact |2024-04-10 10:15:00|25      |Desktop|USA    |\n",
            "|5     |Products|2024-04-10 10:20:00|90      |Desktop|India  |\n",
            "+------+--------+-------------------+--------+-------+-------+\n",
            "\n"
          ]
        }
      ],
      "source": [
        "# Dataset Initialization\n",
        "from pyspark.sql import SparkSession\n",
        "from pyspark.sql import Row\n",
        "from pyspark.sql.functions import col, avg, countDistinct, to_timestamp, minute, rank\n",
        "from pyspark.sql.window import Window\n",
        "\n",
        "spark = SparkSession.builder.appName(\"WebTrafficData\").getOrCreate()\n",
        "web_data = [\n",
        "    Row(UserID=1, Page=\"Home\", Timestamp=\"2024-04-10 10:00:00\", Duration=35, Device=\"Mobile\", Country=\"India\"),\n",
        "    Row(UserID=2, Page=\"Products\", Timestamp=\"2024-04-10 10:02:00\", Duration=120, Device=\"Desktop\", Country=\"USA\"),\n",
        "    Row(UserID=3, Page=\"Cart\", Timestamp=\"2024-04-10 10:05:00\", Duration=45, Device=\"Tablet\", Country=\"UK\"),\n",
        "    Row(UserID=1, Page=\"Checkout\", Timestamp=\"2024-04-10 10:08:00\", Duration=60, Device=\"Mobile\", Country=\"India\"),\n",
        "    Row(UserID=4, Page=\"Home\", Timestamp=\"2024-04-10 10:10:00\", Duration=15, Device=\"Mobile\", Country=\"Canada\"),\n",
        "    Row(UserID=2, Page=\"Contact\", Timestamp=\"2024-04-10 10:15:00\", Duration=25, Device=\"Desktop\", Country=\"USA\"),\n",
        "    Row(UserID=5, Page=\"Products\", Timestamp=\"2024-04-10 10:20:00\", Duration=90, Device=\"Desktop\", Country=\"India\"),\n",
        "]\n",
        "df_web = spark.createDataFrame(web_data)\n",
        "df_web.show(truncate=False)\n"
      ]
    },
    {
      "cell_type": "code",
      "execution_count": 2,
      "id": "0b80238f",
      "metadata": {
        "colab": {
          "base_uri": "https://localhost:8080/"
        },
        "id": "0b80238f",
        "outputId": "acbdd882-3742-459c-9620-1b9422656a6e"
      },
      "outputs": [
        {
          "output_type": "stream",
          "name": "stdout",
          "text": [
            "root\n",
            " |-- UserID: long (nullable = true)\n",
            " |-- Page: string (nullable = true)\n",
            " |-- Timestamp: string (nullable = true)\n",
            " |-- Duration: long (nullable = true)\n",
            " |-- Device: string (nullable = true)\n",
            " |-- Country: string (nullable = true)\n",
            "\n"
          ]
        }
      ],
      "source": [
        "# 1. Display the schema of web_traffic_data\n",
        "df_web.printSchema()"
      ]
    },
    {
      "cell_type": "code",
      "execution_count": 3,
      "id": "22cb6fca",
      "metadata": {
        "colab": {
          "base_uri": "https://localhost:8080/"
        },
        "id": "22cb6fca",
        "outputId": "1434de3c-fd9d-4f9e-dc64-7cd2364c89f4"
      },
      "outputs": [
        {
          "output_type": "stream",
          "name": "stdout",
          "text": [
            "root\n",
            " |-- UserID: long (nullable = true)\n",
            " |-- Page: string (nullable = true)\n",
            " |-- Timestamp: timestamp (nullable = true)\n",
            " |-- Duration: long (nullable = true)\n",
            " |-- Device: string (nullable = true)\n",
            " |-- Country: string (nullable = true)\n",
            "\n"
          ]
        }
      ],
      "source": [
        "# 2. Convert the Timestamp column to a proper timestamp type\n",
        "df_web = df_web.withColumn('Timestamp', to_timestamp('Timestamp'))\n",
        "df_web.printSchema()"
      ]
    },
    {
      "cell_type": "code",
      "execution_count": 4,
      "id": "d77d2ac9",
      "metadata": {
        "colab": {
          "base_uri": "https://localhost:8080/"
        },
        "id": "d77d2ac9",
        "outputId": "acfb1d70-debd-4fc9-af09-48e33008de07"
      },
      "outputs": [
        {
          "output_type": "stream",
          "name": "stdout",
          "text": [
            "+------+--------+-------------------+--------+-------+-------+-------------+\n",
            "|UserID|    Page|          Timestamp|Duration| Device|Country|SessionMinute|\n",
            "+------+--------+-------------------+--------+-------+-------+-------------+\n",
            "|     1|    Home|2024-04-10 10:00:00|      35| Mobile|  India|            0|\n",
            "|     2|Products|2024-04-10 10:02:00|     120|Desktop|    USA|            2|\n",
            "|     3|    Cart|2024-04-10 10:05:00|      45| Tablet|     UK|            5|\n",
            "|     1|Checkout|2024-04-10 10:08:00|      60| Mobile|  India|            8|\n",
            "|     4|    Home|2024-04-10 10:10:00|      15| Mobile| Canada|           10|\n",
            "|     2| Contact|2024-04-10 10:15:00|      25|Desktop|    USA|           15|\n",
            "|     5|Products|2024-04-10 10:20:00|      90|Desktop|  India|           20|\n",
            "+------+--------+-------------------+--------+-------+-------+-------------+\n",
            "\n"
          ]
        }
      ],
      "source": [
        "# 3. Add a new column SessionMinute by extracting the minute from the Timestamp\n",
        "df_web = df_web.withColumn('SessionMinute', minute('Timestamp'))\n",
        "df_web.show()"
      ]
    },
    {
      "cell_type": "code",
      "execution_count": 5,
      "id": "a2931d32",
      "metadata": {
        "colab": {
          "base_uri": "https://localhost:8080/"
        },
        "id": "a2931d32",
        "outputId": "e35444ce-e03a-4a47-971d-3681e4ff2ba2"
      },
      "outputs": [
        {
          "output_type": "stream",
          "name": "stdout",
          "text": [
            "+------+--------+-------------------+--------+------+-------+-------------+\n",
            "|UserID|    Page|          Timestamp|Duration|Device|Country|SessionMinute|\n",
            "+------+--------+-------------------+--------+------+-------+-------------+\n",
            "|     1|Checkout|2024-04-10 10:08:00|      60|Mobile|  India|            8|\n",
            "+------+--------+-------------------+--------+------+-------+-------------+\n",
            "\n"
          ]
        }
      ],
      "source": [
        "# 4. Filter users who used a 'Mobile' device and visited the 'Checkout' page\n",
        "df_web.filter((col('Device') == 'Mobile') & (col('Page') == 'Checkout')).show()"
      ]
    },
    {
      "cell_type": "code",
      "execution_count": 6,
      "id": "c734ac07",
      "metadata": {
        "colab": {
          "base_uri": "https://localhost:8080/"
        },
        "id": "c734ac07",
        "outputId": "860cd46c-25d4-43d7-a6f0-f6d2891e5207"
      },
      "outputs": [
        {
          "output_type": "stream",
          "name": "stdout",
          "text": [
            "+------+--------+-------------------+--------+-------+-------+-------------+\n",
            "|UserID|    Page|          Timestamp|Duration| Device|Country|SessionMinute|\n",
            "+------+--------+-------------------+--------+-------+-------+-------------+\n",
            "|     2|Products|2024-04-10 10:02:00|     120|Desktop|    USA|            2|\n",
            "|     5|Products|2024-04-10 10:20:00|      90|Desktop|  India|           20|\n",
            "+------+--------+-------------------+--------+-------+-------+-------------+\n",
            "\n"
          ]
        }
      ],
      "source": [
        "# 5. Show all entries with a Duration greater than 60 seconds\n",
        "df_web.filter(col('Duration') > 60).show()"
      ]
    },
    {
      "cell_type": "code",
      "execution_count": 7,
      "id": "1d4abbdc",
      "metadata": {
        "colab": {
          "base_uri": "https://localhost:8080/"
        },
        "id": "1d4abbdc",
        "outputId": "190f1a69-f85e-41e8-dbee-d5ecd6947b67"
      },
      "outputs": [
        {
          "output_type": "stream",
          "name": "stdout",
          "text": [
            "+------+--------+-------------------+--------+-------+-------+-------------+\n",
            "|UserID|    Page|          Timestamp|Duration| Device|Country|SessionMinute|\n",
            "+------+--------+-------------------+--------+-------+-------+-------------+\n",
            "|     5|Products|2024-04-10 10:20:00|      90|Desktop|  India|           20|\n",
            "+------+--------+-------------------+--------+-------+-------+-------------+\n",
            "\n"
          ]
        }
      ],
      "source": [
        "# 6. Find all users from India who visited the 'Products' page\n",
        "df_web.filter((col('Country') == 'India') & (col('Page') == 'Products')).show()"
      ]
    },
    {
      "cell_type": "code",
      "execution_count": 8,
      "id": "c1e6eb09",
      "metadata": {
        "colab": {
          "base_uri": "https://localhost:8080/"
        },
        "id": "c1e6eb09",
        "outputId": "8d2a0291-d479-4ec2-a12e-3ce6ae061d34"
      },
      "outputs": [
        {
          "output_type": "stream",
          "name": "stdout",
          "text": [
            "+-------+------------------+\n",
            "| Device|     avg(Duration)|\n",
            "+-------+------------------+\n",
            "| Mobile|36.666666666666664|\n",
            "| Tablet|              45.0|\n",
            "|Desktop| 78.33333333333333|\n",
            "+-------+------------------+\n",
            "\n"
          ]
        }
      ],
      "source": [
        "# 7. Get the average duration per device type\n",
        "df_web.groupBy('Device').avg('Duration').show()"
      ]
    },
    {
      "cell_type": "code",
      "execution_count": 9,
      "id": "3dbd1885",
      "metadata": {
        "colab": {
          "base_uri": "https://localhost:8080/"
        },
        "id": "3dbd1885",
        "outputId": "73461890-6812-46e0-b345-c02d3da4d975"
      },
      "outputs": [
        {
          "output_type": "stream",
          "name": "stdout",
          "text": [
            "+-------+------------+\n",
            "|Country|SessionCount|\n",
            "+-------+------------+\n",
            "|  India|           3|\n",
            "|    USA|           2|\n",
            "|     UK|           1|\n",
            "| Canada|           1|\n",
            "+-------+------------+\n",
            "\n"
          ]
        }
      ],
      "source": [
        "# 8. Count the number of sessions per country\n",
        "df_web.groupBy('Country').count().withColumnRenamed('count', 'SessionCount').show()"
      ]
    },
    {
      "cell_type": "code",
      "execution_count": 10,
      "id": "ac210be8",
      "metadata": {
        "colab": {
          "base_uri": "https://localhost:8080/"
        },
        "id": "ac210be8",
        "outputId": "0ab20b9b-f08a-4500-c57c-1dd51408bf8f"
      },
      "outputs": [
        {
          "output_type": "stream",
          "name": "stdout",
          "text": [
            "+----+-----+\n",
            "|Page|count|\n",
            "+----+-----+\n",
            "|Home|    2|\n",
            "+----+-----+\n",
            "only showing top 1 row\n",
            "\n"
          ]
        }
      ],
      "source": [
        "# 9. Find the most visited page overall\n",
        "df_web.groupBy('Page').count().orderBy(col('count').desc()).show(1)"
      ]
    },
    {
      "cell_type": "code",
      "execution_count": 11,
      "id": "828b9cdd",
      "metadata": {
        "colab": {
          "base_uri": "https://localhost:8080/"
        },
        "id": "828b9cdd",
        "outputId": "146ea944-8a15-44e3-c43b-1bff38457113"
      },
      "outputs": [
        {
          "output_type": "stream",
          "name": "stdout",
          "text": [
            "+------+--------+-------------------+--------+-------+-------+-------------+----+\n",
            "|UserID|    Page|          Timestamp|Duration| Device|Country|SessionMinute|Rank|\n",
            "+------+--------+-------------------+--------+-------+-------+-------------+----+\n",
            "|     1|    Home|2024-04-10 10:00:00|      35| Mobile|  India|            0|   1|\n",
            "|     1|Checkout|2024-04-10 10:08:00|      60| Mobile|  India|            8|   2|\n",
            "|     2|Products|2024-04-10 10:02:00|     120|Desktop|    USA|            2|   1|\n",
            "|     2| Contact|2024-04-10 10:15:00|      25|Desktop|    USA|           15|   2|\n",
            "|     3|    Cart|2024-04-10 10:05:00|      45| Tablet|     UK|            5|   1|\n",
            "|     4|    Home|2024-04-10 10:10:00|      15| Mobile| Canada|           10|   1|\n",
            "|     5|Products|2024-04-10 10:20:00|      90|Desktop|  India|           20|   1|\n",
            "+------+--------+-------------------+--------+-------+-------+-------------+----+\n",
            "\n"
          ]
        }
      ],
      "source": [
        "# 10. Rank each user’s pages by timestamp (oldest to newest)\n",
        "windowSpec = Window.partitionBy('UserID').orderBy('Timestamp')\n",
        "df_web.withColumn('Rank', rank().over(windowSpec)).show()"
      ]
    },
    {
      "cell_type": "code",
      "execution_count": 12,
      "id": "10d0f900",
      "metadata": {
        "colab": {
          "base_uri": "https://localhost:8080/"
        },
        "id": "10d0f900",
        "outputId": "9305582e-680c-48b2-c51e-2c19e552c12f"
      },
      "outputs": [
        {
          "output_type": "stream",
          "name": "stdout",
          "text": [
            "+------+-------------+\n",
            "|UserID|TotalDuration|\n",
            "+------+-------------+\n",
            "|     1|           95|\n",
            "|     3|           45|\n",
            "|     2|          145|\n",
            "|     5|           90|\n",
            "|     4|           15|\n",
            "+------+-------------+\n",
            "\n"
          ]
        }
      ],
      "source": [
        "# 11. Find the total duration of all sessions per user using groupBy\n",
        "df_web.groupBy('UserID').sum('Duration').withColumnRenamed('sum(Duration)', 'TotalDuration').show()"
      ]
    },
    {
      "cell_type": "code",
      "execution_count": 13,
      "id": "d33a8dce",
      "metadata": {
        "id": "d33a8dce"
      },
      "outputs": [],
      "source": [
        "# 12. Create a temporary view called traffic_view\n",
        "df_web.createOrReplaceTempView('traffic_view')"
      ]
    },
    {
      "cell_type": "code",
      "execution_count": 14,
      "id": "f4d2794f",
      "metadata": {
        "colab": {
          "base_uri": "https://localhost:8080/"
        },
        "id": "f4d2794f",
        "outputId": "66afa980-48d0-4435-f390-6fb62160c321"
      },
      "outputs": [
        {
          "output_type": "stream",
          "name": "stdout",
          "text": [
            "+------+--------+-------------------+--------+-------+-------+-------------+\n",
            "|UserID|    Page|          Timestamp|Duration| Device|Country|SessionMinute|\n",
            "+------+--------+-------------------+--------+-------+-------+-------------+\n",
            "|     2|Products|2024-04-10 10:02:00|     120|Desktop|    USA|            2|\n",
            "|     5|Products|2024-04-10 10:20:00|      90|Desktop|  India|           20|\n",
            "+------+--------+-------------------+--------+-------+-------+-------------+\n",
            "\n"
          ]
        }
      ],
      "source": [
        "# 13. Write a SQL query to get the top 2 longest sessions by duration\n",
        "spark.sql('SELECT * FROM traffic_view ORDER BY Duration DESC LIMIT 2').show()"
      ]
    },
    {
      "cell_type": "code",
      "execution_count": 15,
      "id": "42728d12",
      "metadata": {
        "colab": {
          "base_uri": "https://localhost:8080/"
        },
        "id": "42728d12",
        "outputId": "f7cef511-b8a3-4312-f63d-897dc1c892cf"
      },
      "outputs": [
        {
          "output_type": "stream",
          "name": "stdout",
          "text": [
            "+--------+-----------+\n",
            "|    Page|UniqueUsers|\n",
            "+--------+-----------+\n",
            "|    Cart|          1|\n",
            "|    Home|          2|\n",
            "|Checkout|          1|\n",
            "|Products|          2|\n",
            "| Contact|          1|\n",
            "+--------+-----------+\n",
            "\n"
          ]
        }
      ],
      "source": [
        "# 14. Get the number of unique users per page using SQL\n",
        "spark.sql('SELECT Page, COUNT(DISTINCT UserID) as UniqueUsers FROM traffic_view GROUP BY Page').show()"
      ]
    },
    {
      "cell_type": "code",
      "execution_count": 16,
      "id": "54c5eb9b",
      "metadata": {
        "id": "54c5eb9b"
      },
      "outputs": [],
      "source": [
        "# 15. Save the final DataFrame to CSV\n",
        "df_web.write.mode('overwrite').csv('/tmp/web_traffic_csv', header=True)"
      ]
    },
    {
      "cell_type": "code",
      "execution_count": 17,
      "id": "4936bc0f",
      "metadata": {
        "id": "4936bc0f"
      },
      "outputs": [],
      "source": [
        "# 16. Save partitioned by Country in Parquet format\n",
        "df_web.write.mode('overwrite').partitionBy('Country').parquet('/tmp/web_traffic_parquet')"
      ]
    }
  ],
  "metadata": {
    "colab": {
      "provenance": []
    },
    "language_info": {
      "name": "python"
    },
    "kernelspec": {
      "name": "python3",
      "display_name": "Python 3"
    }
  },
  "nbformat": 4,
  "nbformat_minor": 5
}